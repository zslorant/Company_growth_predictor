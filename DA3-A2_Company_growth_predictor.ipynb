{
 "cells": [
  {
   "cell_type": "code",
   "execution_count": 1,
   "metadata": {},
   "outputs": [
    {
     "name": "stdout",
     "output_type": "stream",
     "text": [
      "Jupyter notebook: 7.9.0\n",
      "Python: 3.6.9 |Anaconda, Inc.| (default, Jul 30 2019, 14:00:49) [MSC v.1915 64 bit (AMD64)]\n",
      "Numpy: 1.17.3\n",
      "Pandas: 0.25.3\n",
      "Matplotlib: 3.1.2\n",
      "Seaborn: 0.9.0\n",
      "sklearn: 0.21.3\n",
      "statsmodels: 0.10.1\n"
     ]
    }
   ],
   "source": [
    "\n",
    "import os\n",
    "import sys\n",
    "import IPython\n",
    "\n",
    "import numpy as np\n",
    "import pandas as pd\n",
    "\n",
    "import time\n",
    "import datetime\n",
    "\n",
    "import collections\n",
    "import matplotlib.cm as cm\n",
    "\n",
    "import sklearn\n",
    "from sklearn.tree import DecisionTreeRegressor\n",
    "from sklearn.linear_model import LinearRegression\n",
    "from sklearn.model_selection import train_test_split\n",
    "from sklearn.metrics import mean_squared_error\n",
    "from math import sqrt\n",
    "from IPython.core.display import HTML\n",
    "from scipy.stats import linregress\n",
    "\n",
    "import seaborn as sns\n",
    "# seaborn maszkolás\n",
    "# mask = np.zeros_like(corr)\n",
    "# mask[np.triu_indices_from(mask)]=True\n",
    "\n",
    "from sklearn.preprocessing import binarize\n",
    "import missingno as msgno\n",
    "\n",
    "import matplotlib\n",
    "import matplotlib.pyplot as plt\n",
    "# egyedi figure size\n",
    "# fig=plt.figure(figsize=(18, 16), dpi= 80, facecolor='w', edgecolor='k')\n",
    "\n",
    "# általános figure size\n",
    "width = 20\n",
    "height = 20\n",
    "\n",
    "plt.rcParams['figure.figsize'] = [width, height]\n",
    "plt.rcParams.update({'font.size': 38})\n",
    "\n",
    "#from chart_studio import plotly\n",
    "import missingno as msgno\n",
    "\n",
    "%matplotlib inline\n",
    "import statsmodels\n",
    "#import cufflinks as cf\n",
    "import statsmodels.api as sm\n",
    "from pandas.plotting import autocorrelation_plot\n",
    "\n",
    "#import plotly\n",
    "#from plotly.offline import download_plotlyjs, init_notebook_mode, plot, iplot\n",
    "#plotly.offline.init_notebook_mode()\n",
    "#init_notebook_mode(connected=True)\n",
    "#cf.go_offline()\n",
    "\n",
    "print(\"Jupyter notebook: {}\" .format(IPython.__version__))\n",
    "print(\"Python: {}\" .format(sys.version))\n",
    "print(\"Numpy: {}\" .format(np.__version__))\n",
    "print(\"Pandas: {}\" .format(pd.__version__))\n",
    "print(\"Matplotlib: {}\" .format(matplotlib.__version__))\n",
    "print(\"Seaborn: {}\" .format(sns.__version__))\n",
    "print(\"sklearn: {}\" .format(sklearn.__version__))\n",
    "print(\"statsmodels: {}\" .format(statsmodels.__version__))\n",
    "#print(\"Plotly version: {}\".format(plotly.__version__))\n"
   ]
  },
  {
   "cell_type": "markdown",
   "metadata": {},
   "source": [
    "***"
   ]
  },
  {
   "cell_type": "markdown",
   "metadata": {},
   "source": [
    "**Loading the file**"
   ]
  },
  {
   "cell_type": "code",
   "execution_count": 2,
   "metadata": {},
   "outputs": [],
   "source": [
    "os.chdir(\"C:\\\\Lori\\\\Suli\\\\Szemeszter_2\\\\Data_Analysis_3\\\\DA3-A2-BISNODE\")"
   ]
  },
  {
   "cell_type": "code",
   "execution_count": 3,
   "metadata": {},
   "outputs": [],
   "source": [
    "df=pd.read_csv(\"cs_bisnode_panel.csv\")"
   ]
  },
  {
   "cell_type": "code",
   "execution_count": 4,
   "metadata": {},
   "outputs": [
    {
     "data": {
      "text/html": [
       "<div>\n",
       "<style scoped>\n",
       "    .dataframe tbody tr th:only-of-type {\n",
       "        vertical-align: middle;\n",
       "    }\n",
       "\n",
       "    .dataframe tbody tr th {\n",
       "        vertical-align: top;\n",
       "    }\n",
       "\n",
       "    .dataframe thead th {\n",
       "        text-align: right;\n",
       "    }\n",
       "</style>\n",
       "<table border=\"1\" class=\"dataframe\">\n",
       "  <thead>\n",
       "    <tr style=\"text-align: right;\">\n",
       "      <th></th>\n",
       "      <th>comp_id</th>\n",
       "      <th>begin</th>\n",
       "      <th>end</th>\n",
       "      <th>COGS</th>\n",
       "      <th>amort</th>\n",
       "      <th>curr_assets</th>\n",
       "      <th>curr_liab</th>\n",
       "      <th>extra_exp</th>\n",
       "      <th>extra_inc</th>\n",
       "      <th>extra_profit_loss</th>\n",
       "      <th>...</th>\n",
       "      <th>gender</th>\n",
       "      <th>origin</th>\n",
       "      <th>nace_main</th>\n",
       "      <th>ind2</th>\n",
       "      <th>ind</th>\n",
       "      <th>urban_m</th>\n",
       "      <th>region_m</th>\n",
       "      <th>founded_date</th>\n",
       "      <th>exit_date</th>\n",
       "      <th>labor_avg</th>\n",
       "    </tr>\n",
       "  </thead>\n",
       "  <tbody>\n",
       "    <tr>\n",
       "      <td>0</td>\n",
       "      <td>1001034.0</td>\n",
       "      <td>2005-01-01</td>\n",
       "      <td>2005-12-31</td>\n",
       "      <td>NaN</td>\n",
       "      <td>692.592590</td>\n",
       "      <td>7266.666504</td>\n",
       "      <td>7574.074219</td>\n",
       "      <td>0.0</td>\n",
       "      <td>0.0</td>\n",
       "      <td>0.0</td>\n",
       "      <td>...</td>\n",
       "      <td>mix</td>\n",
       "      <td>Domestic</td>\n",
       "      <td>5630.0</td>\n",
       "      <td>56.0</td>\n",
       "      <td>3.0</td>\n",
       "      <td>1</td>\n",
       "      <td>Central</td>\n",
       "      <td>1990-11-19</td>\n",
       "      <td>NaN</td>\n",
       "      <td>NaN</td>\n",
       "    </tr>\n",
       "    <tr>\n",
       "      <td>1</td>\n",
       "      <td>1001034.0</td>\n",
       "      <td>2006-01-01</td>\n",
       "      <td>2006-12-31</td>\n",
       "      <td>NaN</td>\n",
       "      <td>603.703674</td>\n",
       "      <td>13122.222656</td>\n",
       "      <td>12211.111328</td>\n",
       "      <td>0.0</td>\n",
       "      <td>0.0</td>\n",
       "      <td>0.0</td>\n",
       "      <td>...</td>\n",
       "      <td>mix</td>\n",
       "      <td>Domestic</td>\n",
       "      <td>5630.0</td>\n",
       "      <td>56.0</td>\n",
       "      <td>3.0</td>\n",
       "      <td>1</td>\n",
       "      <td>Central</td>\n",
       "      <td>1990-11-19</td>\n",
       "      <td>NaN</td>\n",
       "      <td>NaN</td>\n",
       "    </tr>\n",
       "    <tr>\n",
       "      <td>2</td>\n",
       "      <td>1001034.0</td>\n",
       "      <td>2007-01-01</td>\n",
       "      <td>2007-12-31</td>\n",
       "      <td>NaN</td>\n",
       "      <td>425.925934</td>\n",
       "      <td>8196.295898</td>\n",
       "      <td>7800.000000</td>\n",
       "      <td>0.0</td>\n",
       "      <td>0.0</td>\n",
       "      <td>0.0</td>\n",
       "      <td>...</td>\n",
       "      <td>mix</td>\n",
       "      <td>Domestic</td>\n",
       "      <td>5630.0</td>\n",
       "      <td>56.0</td>\n",
       "      <td>3.0</td>\n",
       "      <td>1</td>\n",
       "      <td>Central</td>\n",
       "      <td>1990-11-19</td>\n",
       "      <td>NaN</td>\n",
       "      <td>NaN</td>\n",
       "    </tr>\n",
       "    <tr>\n",
       "      <td>3</td>\n",
       "      <td>1001034.0</td>\n",
       "      <td>2008-01-01</td>\n",
       "      <td>2008-12-31</td>\n",
       "      <td>NaN</td>\n",
       "      <td>300.000000</td>\n",
       "      <td>8485.185547</td>\n",
       "      <td>7781.481445</td>\n",
       "      <td>0.0</td>\n",
       "      <td>0.0</td>\n",
       "      <td>0.0</td>\n",
       "      <td>...</td>\n",
       "      <td>mix</td>\n",
       "      <td>Domestic</td>\n",
       "      <td>5630.0</td>\n",
       "      <td>56.0</td>\n",
       "      <td>3.0</td>\n",
       "      <td>1</td>\n",
       "      <td>Central</td>\n",
       "      <td>1990-11-19</td>\n",
       "      <td>NaN</td>\n",
       "      <td>NaN</td>\n",
       "    </tr>\n",
       "    <tr>\n",
       "      <td>4</td>\n",
       "      <td>1001034.0</td>\n",
       "      <td>2009-01-01</td>\n",
       "      <td>2009-12-31</td>\n",
       "      <td>NaN</td>\n",
       "      <td>207.407410</td>\n",
       "      <td>5137.037109</td>\n",
       "      <td>15300.000000</td>\n",
       "      <td>0.0</td>\n",
       "      <td>0.0</td>\n",
       "      <td>0.0</td>\n",
       "      <td>...</td>\n",
       "      <td>mix</td>\n",
       "      <td>Domestic</td>\n",
       "      <td>5630.0</td>\n",
       "      <td>56.0</td>\n",
       "      <td>3.0</td>\n",
       "      <td>1</td>\n",
       "      <td>Central</td>\n",
       "      <td>1990-11-19</td>\n",
       "      <td>NaN</td>\n",
       "      <td>0.083333</td>\n",
       "    </tr>\n",
       "  </tbody>\n",
       "</table>\n",
       "<p>5 rows × 48 columns</p>\n",
       "</div>"
      ],
      "text/plain": [
       "     comp_id       begin         end  COGS       amort   curr_assets  \\\n",
       "0  1001034.0  2005-01-01  2005-12-31   NaN  692.592590   7266.666504   \n",
       "1  1001034.0  2006-01-01  2006-12-31   NaN  603.703674  13122.222656   \n",
       "2  1001034.0  2007-01-01  2007-12-31   NaN  425.925934   8196.295898   \n",
       "3  1001034.0  2008-01-01  2008-12-31   NaN  300.000000   8485.185547   \n",
       "4  1001034.0  2009-01-01  2009-12-31   NaN  207.407410   5137.037109   \n",
       "\n",
       "      curr_liab  extra_exp  extra_inc  extra_profit_loss  ...  gender  \\\n",
       "0   7574.074219        0.0        0.0                0.0  ...     mix   \n",
       "1  12211.111328        0.0        0.0                0.0  ...     mix   \n",
       "2   7800.000000        0.0        0.0                0.0  ...     mix   \n",
       "3   7781.481445        0.0        0.0                0.0  ...     mix   \n",
       "4  15300.000000        0.0        0.0                0.0  ...     mix   \n",
       "\n",
       "     origin  nace_main  ind2  ind  urban_m  region_m  founded_date  exit_date  \\\n",
       "0  Domestic     5630.0  56.0  3.0        1   Central    1990-11-19        NaN   \n",
       "1  Domestic     5630.0  56.0  3.0        1   Central    1990-11-19        NaN   \n",
       "2  Domestic     5630.0  56.0  3.0        1   Central    1990-11-19        NaN   \n",
       "3  Domestic     5630.0  56.0  3.0        1   Central    1990-11-19        NaN   \n",
       "4  Domestic     5630.0  56.0  3.0        1   Central    1990-11-19        NaN   \n",
       "\n",
       "   labor_avg  \n",
       "0        NaN  \n",
       "1        NaN  \n",
       "2        NaN  \n",
       "3        NaN  \n",
       "4   0.083333  \n",
       "\n",
       "[5 rows x 48 columns]"
      ]
     },
     "execution_count": 4,
     "metadata": {},
     "output_type": "execute_result"
    }
   ],
   "source": [
    "df.head()"
   ]
  },
  {
   "cell_type": "code",
   "execution_count": 5,
   "metadata": {},
   "outputs": [
    {
     "data": {
      "text/plain": [
       "<matplotlib.axes._subplots.AxesSubplot at 0x1afcee745c0>"
      ]
     },
     "execution_count": 5,
     "metadata": {},
     "output_type": "execute_result"
    },
    {
     "data": {
      "image/png": "[encoded data removed]",
      "text/plain": [
       "<Figure size 1800x720 with 2 Axes>"
      ]
     },
     "metadata": {},
     "output_type": "display_data"
    }
   ],
   "source": [
    "msgno.matrix(df)"
   ]
  },
  {
   "cell_type": "code",
   "execution_count": 6,
   "metadata": {},
   "outputs": [
    {
     "data": {
      "text/plain": [
       "0"
      ]
     },
     "execution_count": 6,
     "metadata": {},
     "output_type": "execute_result"
    }
   ],
   "source": [
    "df.duplicated().sum()"
   ]
  },
  {
   "cell_type": "markdown",
   "metadata": {},
   "source": [
    "Having a look at the columns which have a missing data ratio of over 30%."
   ]
  },
  {
   "cell_type": "code",
   "execution_count": 7,
   "metadata": {},
   "outputs": [
    {
     "data": {
      "text/html": [
       "<div>\n",
       "<style scoped>\n",
       "    .dataframe tbody tr th:only-of-type {\n",
       "        vertical-align: middle;\n",
       "    }\n",
       "\n",
       "    .dataframe tbody tr th {\n",
       "        vertical-align: top;\n",
       "    }\n",
       "\n",
       "    .dataframe thead th {\n",
       "        text-align: right;\n",
       "    }\n",
       "</style>\n",
       "<table border=\"1\" class=\"dataframe\">\n",
       "  <thead>\n",
       "    <tr style=\"text-align: right;\">\n",
       "      <th></th>\n",
       "      <th>null_value_perc</th>\n",
       "    </tr>\n",
       "  </thead>\n",
       "  <tbody>\n",
       "    <tr>\n",
       "      <td>D</td>\n",
       "      <td>1.000000</td>\n",
       "    </tr>\n",
       "    <tr>\n",
       "      <td>finished_prod</td>\n",
       "      <td>0.939252</td>\n",
       "    </tr>\n",
       "    <tr>\n",
       "      <td>wages</td>\n",
       "      <td>0.937522</td>\n",
       "    </tr>\n",
       "    <tr>\n",
       "      <td>COGS</td>\n",
       "      <td>0.936570</td>\n",
       "    </tr>\n",
       "    <tr>\n",
       "      <td>net_dom_sales</td>\n",
       "      <td>0.936570</td>\n",
       "    </tr>\n",
       "    <tr>\n",
       "      <td>net_exp_sales</td>\n",
       "      <td>0.936570</td>\n",
       "    </tr>\n",
       "    <tr>\n",
       "      <td>exit_year</td>\n",
       "      <td>0.864993</td>\n",
       "    </tr>\n",
       "    <tr>\n",
       "      <td>exit_date</td>\n",
       "      <td>0.804815</td>\n",
       "    </tr>\n",
       "    <tr>\n",
       "      <td>labor_avg</td>\n",
       "      <td>0.509094</td>\n",
       "    </tr>\n",
       "    <tr>\n",
       "      <td>birth_year</td>\n",
       "      <td>0.388488</td>\n",
       "    </tr>\n",
       "  </tbody>\n",
       "</table>\n",
       "</div>"
      ],
      "text/plain": [
       "               null_value_perc\n",
       "D                     1.000000\n",
       "finished_prod         0.939252\n",
       "wages                 0.937522\n",
       "COGS                  0.936570\n",
       "net_dom_sales         0.936570\n",
       "net_exp_sales         0.936570\n",
       "exit_year             0.864993\n",
       "exit_date             0.804815\n",
       "labor_avg             0.509094\n",
       "birth_year            0.388488"
      ]
     },
     "execution_count": 7,
     "metadata": {},
     "output_type": "execute_result"
    }
   ],
   "source": [
    "null_values_dict ={}\n",
    "for cols in df.columns:\n",
    "    null_values_dict.update({cols:df[cols].isnull().sum()/df.shape[0]})\n",
    "null_vals = pd.DataFrame.from_dict(null_values_dict, orient='index').rename(columns={0:\"null_value_perc\"})\n",
    "null_vals.query(\"null_value_perc>0.3\").sort_values(\"null_value_perc\",ascending=False)"
   ]
  },
  {
   "cell_type": "markdown",
   "metadata": {},
   "source": [
    "Parsing the date columns to be recognized as date format."
   ]
  },
  {
   "cell_type": "code",
   "execution_count": 8,
   "metadata": {},
   "outputs": [],
   "source": [
    "df[\"begin\"] = pd.to_datetime(df[\"begin\"], format=\"%Y-%M-%d\")\n",
    "df[\"end\"] = pd.to_datetime(df[\"end\"], format=\"%Y-%M-%d\")"
   ]
  },
  {
   "cell_type": "markdown",
   "metadata": {},
   "source": [
    "Adding a new column showing only the year."
   ]
  },
  {
   "cell_type": "code",
   "execution_count": 9,
   "metadata": {},
   "outputs": [],
   "source": [
    "df[\"begin_year\"]=df.begin.dt.year"
   ]
  },
  {
   "cell_type": "markdown",
   "metadata": {},
   "source": [
    "Checking if the yearly data is missing in a regular or a random fashion for every column."
   ]
  },
  {
   "cell_type": "code",
   "execution_count": 10,
   "metadata": {},
   "outputs": [],
   "source": [
    "begin_years_cols = list(df.begin_year.unique())\n",
    "df_cols = list(df.columns)\n",
    "\n",
    "my_list=list()\n",
    "\n",
    "for year in begin_years_cols:\n",
    "    for col in df_cols:\n",
    "        my_df = df.query(\"begin_year==year\")\n",
    "        nan_perc = my_df[col].isnull().sum() / my_df.shape[0]\n",
    "        my_list.append([year,col,nan_perc])"
   ]
  },
  {
   "cell_type": "code",
   "execution_count": 11,
   "metadata": {},
   "outputs": [],
   "source": [
    "new_df = pd.DataFrame(my_list, columns=[\"year\", \"column\", \"percentage\"])"
   ]
  },
  {
   "cell_type": "code",
   "execution_count": 12,
   "metadata": {},
   "outputs": [
    {
     "data": {
      "text/html": [
       "<div>\n",
       "<style scoped>\n",
       "    .dataframe tbody tr th:only-of-type {\n",
       "        vertical-align: middle;\n",
       "    }\n",
       "\n",
       "    .dataframe tbody tr th {\n",
       "        vertical-align: top;\n",
       "    }\n",
       "\n",
       "    .dataframe thead th {\n",
       "        text-align: right;\n",
       "    }\n",
       "</style>\n",
       "<table border=\"1\" class=\"dataframe\">\n",
       "  <thead>\n",
       "    <tr style=\"text-align: right;\">\n",
       "      <th>column</th>\n",
       "      <th>COGS</th>\n",
       "      <th>D</th>\n",
       "      <th>amort</th>\n",
       "      <th>balsheet_flag</th>\n",
       "      <th>balsheet_length</th>\n",
       "      <th>balsheet_notfullyear</th>\n",
       "      <th>begin</th>\n",
       "      <th>begin_year</th>\n",
       "      <th>birth_year</th>\n",
       "      <th>ceo_count</th>\n",
       "      <th>...</th>\n",
       "      <th>personnel_exp</th>\n",
       "      <th>profit_loss_year</th>\n",
       "      <th>region_m</th>\n",
       "      <th>sales</th>\n",
       "      <th>share_eq</th>\n",
       "      <th>subscribed_cap</th>\n",
       "      <th>tang_assets</th>\n",
       "      <th>urban_m</th>\n",
       "      <th>wages</th>\n",
       "      <th>year</th>\n",
       "    </tr>\n",
       "    <tr>\n",
       "      <th>year</th>\n",
       "      <th></th>\n",
       "      <th></th>\n",
       "      <th></th>\n",
       "      <th></th>\n",
       "      <th></th>\n",
       "      <th></th>\n",
       "      <th></th>\n",
       "      <th></th>\n",
       "      <th></th>\n",
       "      <th></th>\n",
       "      <th></th>\n",
       "      <th></th>\n",
       "      <th></th>\n",
       "      <th></th>\n",
       "      <th></th>\n",
       "      <th></th>\n",
       "      <th></th>\n",
       "      <th></th>\n",
       "      <th></th>\n",
       "      <th></th>\n",
       "      <th></th>\n",
       "    </tr>\n",
       "  </thead>\n",
       "  <tbody>\n",
       "    <tr>\n",
       "      <td>2005</td>\n",
       "      <td>0.936564</td>\n",
       "      <td>1.0</td>\n",
       "      <td>0.027932</td>\n",
       "      <td>0.0</td>\n",
       "      <td>0.0</td>\n",
       "      <td>0.0</td>\n",
       "      <td>0.0</td>\n",
       "      <td>0.0</td>\n",
       "      <td>0.388445</td>\n",
       "      <td>0.196042</td>\n",
       "      <td>...</td>\n",
       "      <td>0.027932</td>\n",
       "      <td>0.034246</td>\n",
       "      <td>0.002919</td>\n",
       "      <td>0.025841</td>\n",
       "      <td>0.000455</td>\n",
       "      <td>0.000455</td>\n",
       "      <td>0.005108</td>\n",
       "      <td>0.0</td>\n",
       "      <td>0.937516</td>\n",
       "      <td>0.0</td>\n",
       "    </tr>\n",
       "    <tr>\n",
       "      <td>2006</td>\n",
       "      <td>0.936564</td>\n",
       "      <td>1.0</td>\n",
       "      <td>0.027932</td>\n",
       "      <td>0.0</td>\n",
       "      <td>0.0</td>\n",
       "      <td>0.0</td>\n",
       "      <td>0.0</td>\n",
       "      <td>0.0</td>\n",
       "      <td>0.388445</td>\n",
       "      <td>0.196042</td>\n",
       "      <td>...</td>\n",
       "      <td>0.027932</td>\n",
       "      <td>0.034246</td>\n",
       "      <td>0.002919</td>\n",
       "      <td>0.025841</td>\n",
       "      <td>0.000455</td>\n",
       "      <td>0.000455</td>\n",
       "      <td>0.005108</td>\n",
       "      <td>0.0</td>\n",
       "      <td>0.937516</td>\n",
       "      <td>0.0</td>\n",
       "    </tr>\n",
       "    <tr>\n",
       "      <td>2007</td>\n",
       "      <td>0.936564</td>\n",
       "      <td>1.0</td>\n",
       "      <td>0.027932</td>\n",
       "      <td>0.0</td>\n",
       "      <td>0.0</td>\n",
       "      <td>0.0</td>\n",
       "      <td>0.0</td>\n",
       "      <td>0.0</td>\n",
       "      <td>0.388445</td>\n",
       "      <td>0.196042</td>\n",
       "      <td>...</td>\n",
       "      <td>0.027932</td>\n",
       "      <td>0.034246</td>\n",
       "      <td>0.002919</td>\n",
       "      <td>0.025841</td>\n",
       "      <td>0.000455</td>\n",
       "      <td>0.000455</td>\n",
       "      <td>0.005108</td>\n",
       "      <td>0.0</td>\n",
       "      <td>0.937516</td>\n",
       "      <td>0.0</td>\n",
       "    </tr>\n",
       "    <tr>\n",
       "      <td>2008</td>\n",
       "      <td>0.936564</td>\n",
       "      <td>1.0</td>\n",
       "      <td>0.027932</td>\n",
       "      <td>0.0</td>\n",
       "      <td>0.0</td>\n",
       "      <td>0.0</td>\n",
       "      <td>0.0</td>\n",
       "      <td>0.0</td>\n",
       "      <td>0.388445</td>\n",
       "      <td>0.196042</td>\n",
       "      <td>...</td>\n",
       "      <td>0.027932</td>\n",
       "      <td>0.034246</td>\n",
       "      <td>0.002919</td>\n",
       "      <td>0.025841</td>\n",
       "      <td>0.000455</td>\n",
       "      <td>0.000455</td>\n",
       "      <td>0.005108</td>\n",
       "      <td>0.0</td>\n",
       "      <td>0.937516</td>\n",
       "      <td>0.0</td>\n",
       "    </tr>\n",
       "    <tr>\n",
       "      <td>2009</td>\n",
       "      <td>0.936564</td>\n",
       "      <td>1.0</td>\n",
       "      <td>0.027932</td>\n",
       "      <td>0.0</td>\n",
       "      <td>0.0</td>\n",
       "      <td>0.0</td>\n",
       "      <td>0.0</td>\n",
       "      <td>0.0</td>\n",
       "      <td>0.388445</td>\n",
       "      <td>0.196042</td>\n",
       "      <td>...</td>\n",
       "      <td>0.027932</td>\n",
       "      <td>0.034246</td>\n",
       "      <td>0.002919</td>\n",
       "      <td>0.025841</td>\n",
       "      <td>0.000455</td>\n",
       "      <td>0.000455</td>\n",
       "      <td>0.005108</td>\n",
       "      <td>0.0</td>\n",
       "      <td>0.937516</td>\n",
       "      <td>0.0</td>\n",
       "    </tr>\n",
       "    <tr>\n",
       "      <td>2010</td>\n",
       "      <td>0.936564</td>\n",
       "      <td>1.0</td>\n",
       "      <td>0.027932</td>\n",
       "      <td>0.0</td>\n",
       "      <td>0.0</td>\n",
       "      <td>0.0</td>\n",
       "      <td>0.0</td>\n",
       "      <td>0.0</td>\n",
       "      <td>0.388445</td>\n",
       "      <td>0.196042</td>\n",
       "      <td>...</td>\n",
       "      <td>0.027932</td>\n",
       "      <td>0.034246</td>\n",
       "      <td>0.002919</td>\n",
       "      <td>0.025841</td>\n",
       "      <td>0.000455</td>\n",
       "      <td>0.000455</td>\n",
       "      <td>0.005108</td>\n",
       "      <td>0.0</td>\n",
       "      <td>0.937516</td>\n",
       "      <td>0.0</td>\n",
       "    </tr>\n",
       "    <tr>\n",
       "      <td>2011</td>\n",
       "      <td>0.936564</td>\n",
       "      <td>1.0</td>\n",
       "      <td>0.027932</td>\n",
       "      <td>0.0</td>\n",
       "      <td>0.0</td>\n",
       "      <td>0.0</td>\n",
       "      <td>0.0</td>\n",
       "      <td>0.0</td>\n",
       "      <td>0.388445</td>\n",
       "      <td>0.196042</td>\n",
       "      <td>...</td>\n",
       "      <td>0.027932</td>\n",
       "      <td>0.034246</td>\n",
       "      <td>0.002919</td>\n",
       "      <td>0.025841</td>\n",
       "      <td>0.000455</td>\n",
       "      <td>0.000455</td>\n",
       "      <td>0.005108</td>\n",
       "      <td>0.0</td>\n",
       "      <td>0.937516</td>\n",
       "      <td>0.0</td>\n",
       "    </tr>\n",
       "    <tr>\n",
       "      <td>2012</td>\n",
       "      <td>0.936564</td>\n",
       "      <td>1.0</td>\n",
       "      <td>0.027932</td>\n",
       "      <td>0.0</td>\n",
       "      <td>0.0</td>\n",
       "      <td>0.0</td>\n",
       "      <td>0.0</td>\n",
       "      <td>0.0</td>\n",
       "      <td>0.388445</td>\n",
       "      <td>0.196042</td>\n",
       "      <td>...</td>\n",
       "      <td>0.027932</td>\n",
       "      <td>0.034246</td>\n",
       "      <td>0.002919</td>\n",
       "      <td>0.025841</td>\n",
       "      <td>0.000455</td>\n",
       "      <td>0.000455</td>\n",
       "      <td>0.005108</td>\n",
       "      <td>0.0</td>\n",
       "      <td>0.937516</td>\n",
       "      <td>0.0</td>\n",
       "    </tr>\n",
       "    <tr>\n",
       "      <td>2013</td>\n",
       "      <td>0.936564</td>\n",
       "      <td>1.0</td>\n",
       "      <td>0.027932</td>\n",
       "      <td>0.0</td>\n",
       "      <td>0.0</td>\n",
       "      <td>0.0</td>\n",
       "      <td>0.0</td>\n",
       "      <td>0.0</td>\n",
       "      <td>0.388445</td>\n",
       "      <td>0.196042</td>\n",
       "      <td>...</td>\n",
       "      <td>0.027932</td>\n",
       "      <td>0.034246</td>\n",
       "      <td>0.002919</td>\n",
       "      <td>0.025841</td>\n",
       "      <td>0.000455</td>\n",
       "      <td>0.000455</td>\n",
       "      <td>0.005108</td>\n",
       "      <td>0.0</td>\n",
       "      <td>0.937516</td>\n",
       "      <td>0.0</td>\n",
       "    </tr>\n",
       "    <tr>\n",
       "      <td>2014</td>\n",
       "      <td>0.936564</td>\n",
       "      <td>1.0</td>\n",
       "      <td>0.027932</td>\n",
       "      <td>0.0</td>\n",
       "      <td>0.0</td>\n",
       "      <td>0.0</td>\n",
       "      <td>0.0</td>\n",
       "      <td>0.0</td>\n",
       "      <td>0.388445</td>\n",
       "      <td>0.196042</td>\n",
       "      <td>...</td>\n",
       "      <td>0.027932</td>\n",
       "      <td>0.034246</td>\n",
       "      <td>0.002919</td>\n",
       "      <td>0.025841</td>\n",
       "      <td>0.000455</td>\n",
       "      <td>0.000455</td>\n",
       "      <td>0.005108</td>\n",
       "      <td>0.0</td>\n",
       "      <td>0.937516</td>\n",
       "      <td>0.0</td>\n",
       "    </tr>\n",
       "    <tr>\n",
       "      <td>2015</td>\n",
       "      <td>0.936564</td>\n",
       "      <td>1.0</td>\n",
       "      <td>0.027932</td>\n",
       "      <td>0.0</td>\n",
       "      <td>0.0</td>\n",
       "      <td>0.0</td>\n",
       "      <td>0.0</td>\n",
       "      <td>0.0</td>\n",
       "      <td>0.388445</td>\n",
       "      <td>0.196042</td>\n",
       "      <td>...</td>\n",
       "      <td>0.027932</td>\n",
       "      <td>0.034246</td>\n",
       "      <td>0.002919</td>\n",
       "      <td>0.025841</td>\n",
       "      <td>0.000455</td>\n",
       "      <td>0.000455</td>\n",
       "      <td>0.005108</td>\n",
       "      <td>0.0</td>\n",
       "      <td>0.937516</td>\n",
       "      <td>0.0</td>\n",
       "    </tr>\n",
       "    <tr>\n",
       "      <td>2016</td>\n",
       "      <td>0.936564</td>\n",
       "      <td>1.0</td>\n",
       "      <td>0.027932</td>\n",
       "      <td>0.0</td>\n",
       "      <td>0.0</td>\n",
       "      <td>0.0</td>\n",
       "      <td>0.0</td>\n",
       "      <td>0.0</td>\n",
       "      <td>0.388445</td>\n",
       "      <td>0.196042</td>\n",
       "      <td>...</td>\n",
       "      <td>0.027932</td>\n",
       "      <td>0.034246</td>\n",
       "      <td>0.002919</td>\n",
       "      <td>0.025841</td>\n",
       "      <td>0.000455</td>\n",
       "      <td>0.000455</td>\n",
       "      <td>0.005108</td>\n",
       "      <td>0.0</td>\n",
       "      <td>0.937516</td>\n",
       "      <td>0.0</td>\n",
       "    </tr>\n",
       "  </tbody>\n",
       "</table>\n",
       "<p>12 rows × 49 columns</p>\n",
       "</div>"
      ],
      "text/plain": [
       "column      COGS    D     amort  balsheet_flag  balsheet_length  \\\n",
       "year                                                              \n",
       "2005    0.936564  1.0  0.027932            0.0              0.0   \n",
       "2006    0.936564  1.0  0.027932            0.0              0.0   \n",
       "2007    0.936564  1.0  0.027932            0.0              0.0   \n",
       "2008    0.936564  1.0  0.027932            0.0              0.0   \n",
       "2009    0.936564  1.0  0.027932            0.0              0.0   \n",
       "2010    0.936564  1.0  0.027932            0.0              0.0   \n",
       "2011    0.936564  1.0  0.027932            0.0              0.0   \n",
       "2012    0.936564  1.0  0.027932            0.0              0.0   \n",
       "2013    0.936564  1.0  0.027932            0.0              0.0   \n",
       "2014    0.936564  1.0  0.027932            0.0              0.0   \n",
       "2015    0.936564  1.0  0.027932            0.0              0.0   \n",
       "2016    0.936564  1.0  0.027932            0.0              0.0   \n",
       "\n",
       "column  balsheet_notfullyear  begin  begin_year  birth_year  ceo_count  ...  \\\n",
       "year                                                                    ...   \n",
       "2005                     0.0    0.0         0.0    0.388445   0.196042  ...   \n",
       "2006                     0.0    0.0         0.0    0.388445   0.196042  ...   \n",
       "2007                     0.0    0.0         0.0    0.388445   0.196042  ...   \n",
       "2008                     0.0    0.0         0.0    0.388445   0.196042  ...   \n",
       "2009                     0.0    0.0         0.0    0.388445   0.196042  ...   \n",
       "2010                     0.0    0.0         0.0    0.388445   0.196042  ...   \n",
       "2011                     0.0    0.0         0.0    0.388445   0.196042  ...   \n",
       "2012                     0.0    0.0         0.0    0.388445   0.196042  ...   \n",
       "2013                     0.0    0.0         0.0    0.388445   0.196042  ...   \n",
       "2014                     0.0    0.0         0.0    0.388445   0.196042  ...   \n",
       "2015                     0.0    0.0         0.0    0.388445   0.196042  ...   \n",
       "2016                     0.0    0.0         0.0    0.388445   0.196042  ...   \n",
       "\n",
       "column  personnel_exp  profit_loss_year  region_m     sales  share_eq  \\\n",
       "year                                                                    \n",
       "2005         0.027932          0.034246  0.002919  0.025841  0.000455   \n",
       "2006         0.027932          0.034246  0.002919  0.025841  0.000455   \n",
       "2007         0.027932          0.034246  0.002919  0.025841  0.000455   \n",
       "2008         0.027932          0.034246  0.002919  0.025841  0.000455   \n",
       "2009         0.027932          0.034246  0.002919  0.025841  0.000455   \n",
       "2010         0.027932          0.034246  0.002919  0.025841  0.000455   \n",
       "2011         0.027932          0.034246  0.002919  0.025841  0.000455   \n",
       "2012         0.027932          0.034246  0.002919  0.025841  0.000455   \n",
       "2013         0.027932          0.034246  0.002919  0.025841  0.000455   \n",
       "2014         0.027932          0.034246  0.002919  0.025841  0.000455   \n",
       "2015         0.027932          0.034246  0.002919  0.025841  0.000455   \n",
       "2016         0.027932          0.034246  0.002919  0.025841  0.000455   \n",
       "\n",
       "column  subscribed_cap  tang_assets  urban_m     wages  year  \n",
       "year                                                          \n",
       "2005          0.000455     0.005108      0.0  0.937516   0.0  \n",
       "2006          0.000455     0.005108      0.0  0.937516   0.0  \n",
       "2007          0.000455     0.005108      0.0  0.937516   0.0  \n",
       "2008          0.000455     0.005108      0.0  0.937516   0.0  \n",
       "2009          0.000455     0.005108      0.0  0.937516   0.0  \n",
       "2010          0.000455     0.005108      0.0  0.937516   0.0  \n",
       "2011          0.000455     0.005108      0.0  0.937516   0.0  \n",
       "2012          0.000455     0.005108      0.0  0.937516   0.0  \n",
       "2013          0.000455     0.005108      0.0  0.937516   0.0  \n",
       "2014          0.000455     0.005108      0.0  0.937516   0.0  \n",
       "2015          0.000455     0.005108      0.0  0.937516   0.0  \n",
       "2016          0.000455     0.005108      0.0  0.937516   0.0  \n",
       "\n",
       "[12 rows x 49 columns]"
      ]
     },
     "execution_count": 12,
     "metadata": {},
     "output_type": "execute_result"
    }
   ],
   "source": [
    "new_df.pivot(index=\"year\", columns=\"column\", values=\"percentage\")"
   ]
  },
  {
   "cell_type": "markdown",
   "metadata": {},
   "source": [
    "As we can see in the table above the missing data has the same proportion for every year."
   ]
  },
  {
   "cell_type": "markdown",
   "metadata": {},
   "source": [
    "I decided to drop all those columns which have more than 30% of missing data."
   ]
  },
  {
   "cell_type": "code",
   "execution_count": 13,
   "metadata": {},
   "outputs": [],
   "source": [
    "drop_columns= [\"D\", \"finished_prod\", \"wages\",\"COGS\", \"net_dom_sales\", \"net_exp_sales\",\"exit_year\", \"exit_date\",\\\n",
    "              \"labor_avg\", \"birth_year\"]\n",
    "df= df.drop(columns=drop_columns)"
   ]
  },
  {
   "cell_type": "code",
   "execution_count": 14,
   "metadata": {
    "scrolled": true
   },
   "outputs": [
    {
     "name": "stdout",
     "output_type": "stream",
     "text": [
      "<class 'pandas.core.frame.DataFrame'>\n",
      "RangeIndex: 287829 entries, 0 to 287828\n",
      "Data columns (total 39 columns):\n",
      "comp_id                 287829 non-null float64\n",
      "begin                   287829 non-null datetime64[ns]\n",
      "end                     287829 non-null datetime64[ns]\n",
      "amort                   279789 non-null float64\n",
      "curr_assets             287698 non-null float64\n",
      "curr_liab               287698 non-null float64\n",
      "extra_exp               269300 non-null float64\n",
      "extra_inc               269300 non-null float64\n",
      "extra_profit_loss       270626 non-null float64\n",
      "fixed_assets            287698 non-null float64\n",
      "inc_bef_tax             280392 non-null float64\n",
      "intang_assets           287689 non-null float64\n",
      "inventories             287698 non-null float64\n",
      "liq_assets              287698 non-null float64\n",
      "material_exp            279789 non-null float64\n",
      "personnel_exp           279789 non-null float64\n",
      "profit_loss_year        277945 non-null float64\n",
      "sales                   280392 non-null float64\n",
      "share_eq                287698 non-null float64\n",
      "subscribed_cap          287698 non-null float64\n",
      "tang_assets             286359 non-null float64\n",
      "balsheet_flag           287829 non-null int64\n",
      "balsheet_length         287829 non-null int64\n",
      "balsheet_notfullyear    287829 non-null int64\n",
      "year                    287829 non-null int64\n",
      "founded_year            231372 non-null float64\n",
      "ceo_count               231402 non-null float64\n",
      "foreign                 231402 non-null float64\n",
      "female                  231402 non-null float64\n",
      "inoffice_days           231402 non-null float64\n",
      "gender                  231402 non-null object\n",
      "origin                  231402 non-null object\n",
      "nace_main               286791 non-null float64\n",
      "ind2                    286791 non-null float64\n",
      "ind                     278060 non-null float64\n",
      "urban_m                 287829 non-null int64\n",
      "region_m                286989 non-null object\n",
      "founded_date            287778 non-null object\n",
      "begin_year              287829 non-null int64\n",
      "dtypes: datetime64[ns](2), float64(27), int64(6), object(4)\n",
      "memory usage: 85.6+ MB\n"
     ]
    }
   ],
   "source": [
    "df.info()"
   ]
  },
  {
   "cell_type": "code",
   "execution_count": 15,
   "metadata": {},
   "outputs": [
    {
     "data": {
      "text/plain": [
       "<matplotlib.axes._subplots.AxesSubplot at 0x1afcf22b128>"
      ]
     },
     "execution_count": 15,
     "metadata": {},
     "output_type": "execute_result"
    },
    {
     "data": {
      "image/png": "[encoded data removed]",
      "text/plain": [
       "<Figure size 1800x720 with 2 Axes>"
      ]
     },
     "metadata": {},
     "output_type": "display_data"
    }
   ],
   "source": [
    "msgno.matrix(df)"
   ]
  },
  {
   "cell_type": "markdown",
   "metadata": {},
   "source": [
    "Checking for missing data on a yearly basis. This will help me to decide on which years should I choose for my analysis. Obviously I will choose the years having the less missing data."
   ]
  },
  {
   "cell_type": "code",
   "execution_count": 16,
   "metadata": {
    "scrolled": false
   },
   "outputs": [
    {
     "name": "stdout",
     "output_type": "stream",
     "text": [
      "2005 55975\n",
      "2006 74511\n",
      "2007 68832\n",
      "2008 58408\n",
      "2009 48308\n",
      "2010 41216\n",
      "2011 38533\n",
      "2012 31849\n",
      "2013 26077\n",
      "2014 15437\n",
      "2015 13099\n",
      "2016 41176\n"
     ]
    }
   ],
   "source": [
    "for year in begin_years_cols:\n",
    "    my_df = df.query(\"begin_year == @year\")\n",
    "    missing_perc = my_df.isna().sum().sum()\n",
    "    print(year, missing_perc)"
   ]
  },
  {
   "cell_type": "markdown",
   "metadata": {},
   "source": [
    "As per the table above I will work with the years 2013, 2014 and 2015."
   ]
  },
  {
   "cell_type": "code",
   "execution_count": 17,
   "metadata": {},
   "outputs": [],
   "source": [
    "df = df.query(\"begin_year>=2013 and begin_year<=2015\")"
   ]
  },
  {
   "cell_type": "markdown",
   "metadata": {},
   "source": [
    "Taking a look at the dataframe."
   ]
  },
  {
   "cell_type": "code",
   "execution_count": 18,
   "metadata": {
    "scrolled": true
   },
   "outputs": [
    {
     "data": {
      "text/plain": [
       "<matplotlib.axes._subplots.AxesSubplot at 0x1afa54de588>"
      ]
     },
     "execution_count": 18,
     "metadata": {},
     "output_type": "execute_result"
    },
    {
     "data": {
      "image/png": "[encoded data removed]",
      "text/plain": [
       "<Figure size 1800x720 with 2 Axes>"
      ]
     },
     "metadata": {},
     "output_type": "display_data"
    }
   ],
   "source": [
    "msgno.matrix(df)"
   ]
  },
  {
   "cell_type": "code",
   "execution_count": 19,
   "metadata": {},
   "outputs": [
    {
     "data": {
      "text/html": [
       "<div>\n",
       "<style scoped>\n",
       "    .dataframe tbody tr th:only-of-type {\n",
       "        vertical-align: middle;\n",
       "    }\n",
       "\n",
       "    .dataframe tbody tr th {\n",
       "        vertical-align: top;\n",
       "    }\n",
       "\n",
       "    .dataframe thead th {\n",
       "        text-align: right;\n",
       "    }\n",
       "</style>\n",
       "<table border=\"1\" class=\"dataframe\">\n",
       "  <thead>\n",
       "    <tr style=\"text-align: right;\">\n",
       "      <th></th>\n",
       "      <th>amort</th>\n",
       "      <th>curr_assets</th>\n",
       "      <th>curr_liab</th>\n",
       "      <th>extra_exp</th>\n",
       "      <th>extra_inc</th>\n",
       "      <th>extra_profit_loss</th>\n",
       "      <th>fixed_assets</th>\n",
       "      <th>inc_bef_tax</th>\n",
       "      <th>intang_assets</th>\n",
       "      <th>inventories</th>\n",
       "      <th>...</th>\n",
       "      <th>founded_year</th>\n",
       "      <th>ceo_count</th>\n",
       "      <th>foreign</th>\n",
       "      <th>female</th>\n",
       "      <th>inoffice_days</th>\n",
       "      <th>nace_main</th>\n",
       "      <th>ind2</th>\n",
       "      <th>ind</th>\n",
       "      <th>urban_m</th>\n",
       "      <th>begin_year</th>\n",
       "    </tr>\n",
       "    <tr>\n",
       "      <th>comp_id</th>\n",
       "      <th></th>\n",
       "      <th></th>\n",
       "      <th></th>\n",
       "      <th></th>\n",
       "      <th></th>\n",
       "      <th></th>\n",
       "      <th></th>\n",
       "      <th></th>\n",
       "      <th></th>\n",
       "      <th></th>\n",
       "      <th></th>\n",
       "      <th></th>\n",
       "      <th></th>\n",
       "      <th></th>\n",
       "      <th></th>\n",
       "      <th></th>\n",
       "      <th></th>\n",
       "      <th></th>\n",
       "      <th></th>\n",
       "      <th></th>\n",
       "      <th></th>\n",
       "    </tr>\n",
       "  </thead>\n",
       "  <tbody>\n",
       "    <tr>\n",
       "      <td>1.263652e+06</td>\n",
       "      <td>NaN</td>\n",
       "      <td>0.000000e+00</td>\n",
       "      <td>59.259258</td>\n",
       "      <td>0.000000</td>\n",
       "      <td>0.000000</td>\n",
       "      <td>0.000000</td>\n",
       "      <td>0.000000</td>\n",
       "      <td>0.000000</td>\n",
       "      <td>0.0</td>\n",
       "      <td>0.000000</td>\n",
       "      <td>...</td>\n",
       "      <td>NaN</td>\n",
       "      <td>NaN</td>\n",
       "      <td>NaN</td>\n",
       "      <td>NaN</td>\n",
       "      <td>NaN</td>\n",
       "      <td>5610.0</td>\n",
       "      <td>56.0</td>\n",
       "      <td>3.0</td>\n",
       "      <td>1.0</td>\n",
       "      <td>2014.0</td>\n",
       "    </tr>\n",
       "    <tr>\n",
       "      <td>1.684924e+07</td>\n",
       "      <td>NaN</td>\n",
       "      <td>1.315942e+06</td>\n",
       "      <td>446049.385417</td>\n",
       "      <td>4870.370443</td>\n",
       "      <td>13408.642553</td>\n",
       "      <td>8538.271459</td>\n",
       "      <td>411479.010417</td>\n",
       "      <td>128454.317546</td>\n",
       "      <td>0.0</td>\n",
       "      <td>288822.218750</td>\n",
       "      <td>...</td>\n",
       "      <td>NaN</td>\n",
       "      <td>NaN</td>\n",
       "      <td>NaN</td>\n",
       "      <td>NaN</td>\n",
       "      <td>NaN</td>\n",
       "      <td>2825.0</td>\n",
       "      <td>28.0</td>\n",
       "      <td>2.0</td>\n",
       "      <td>3.0</td>\n",
       "      <td>2014.0</td>\n",
       "    </tr>\n",
       "    <tr>\n",
       "      <td>2.630451e+07</td>\n",
       "      <td>NaN</td>\n",
       "      <td>1.844444e+03</td>\n",
       "      <td>0.000000</td>\n",
       "      <td>NaN</td>\n",
       "      <td>NaN</td>\n",
       "      <td>NaN</td>\n",
       "      <td>0.000000</td>\n",
       "      <td>NaN</td>\n",
       "      <td>0.0</td>\n",
       "      <td>0.000000</td>\n",
       "      <td>...</td>\n",
       "      <td>2011.0</td>\n",
       "      <td>1.0</td>\n",
       "      <td>0.0</td>\n",
       "      <td>0.0</td>\n",
       "      <td>1086.0</td>\n",
       "      <td>5610.0</td>\n",
       "      <td>56.0</td>\n",
       "      <td>3.0</td>\n",
       "      <td>2.0</td>\n",
       "      <td>2013.0</td>\n",
       "    </tr>\n",
       "    <tr>\n",
       "      <td>4.070294e+07</td>\n",
       "      <td>NaN</td>\n",
       "      <td>0.000000e+00</td>\n",
       "      <td>20825.925781</td>\n",
       "      <td>NaN</td>\n",
       "      <td>NaN</td>\n",
       "      <td>NaN</td>\n",
       "      <td>0.000000</td>\n",
       "      <td>NaN</td>\n",
       "      <td>0.0</td>\n",
       "      <td>0.000000</td>\n",
       "      <td>...</td>\n",
       "      <td>1995.0</td>\n",
       "      <td>1.0</td>\n",
       "      <td>0.0</td>\n",
       "      <td>1.0</td>\n",
       "      <td>3609.0</td>\n",
       "      <td>5520.0</td>\n",
       "      <td>55.0</td>\n",
       "      <td>3.0</td>\n",
       "      <td>3.0</td>\n",
       "      <td>2013.5</td>\n",
       "    </tr>\n",
       "    <tr>\n",
       "      <td>5.783932e+07</td>\n",
       "      <td>NaN</td>\n",
       "      <td>1.377778e+03</td>\n",
       "      <td>0.000000</td>\n",
       "      <td>0.000000</td>\n",
       "      <td>0.000000</td>\n",
       "      <td>0.000000</td>\n",
       "      <td>1948.148193</td>\n",
       "      <td>0.000000</td>\n",
       "      <td>0.0</td>\n",
       "      <td>0.000000</td>\n",
       "      <td>...</td>\n",
       "      <td>1991.0</td>\n",
       "      <td>3.0</td>\n",
       "      <td>1.0</td>\n",
       "      <td>0.0</td>\n",
       "      <td>9133.0</td>\n",
       "      <td>5510.0</td>\n",
       "      <td>55.0</td>\n",
       "      <td>3.0</td>\n",
       "      <td>1.0</td>\n",
       "      <td>2014.0</td>\n",
       "    </tr>\n",
       "    <tr>\n",
       "      <td>...</td>\n",
       "      <td>...</td>\n",
       "      <td>...</td>\n",
       "      <td>...</td>\n",
       "      <td>...</td>\n",
       "      <td>...</td>\n",
       "      <td>...</td>\n",
       "      <td>...</td>\n",
       "      <td>...</td>\n",
       "      <td>...</td>\n",
       "      <td>...</td>\n",
       "      <td>...</td>\n",
       "      <td>...</td>\n",
       "      <td>...</td>\n",
       "      <td>...</td>\n",
       "      <td>...</td>\n",
       "      <td>...</td>\n",
       "      <td>...</td>\n",
       "      <td>...</td>\n",
       "      <td>...</td>\n",
       "      <td>...</td>\n",
       "      <td>...</td>\n",
       "    </tr>\n",
       "    <tr>\n",
       "      <td>4.511119e+11</td>\n",
       "      <td>NaN</td>\n",
       "      <td>1.111111e+04</td>\n",
       "      <td>0.000000</td>\n",
       "      <td>NaN</td>\n",
       "      <td>NaN</td>\n",
       "      <td>NaN</td>\n",
       "      <td>0.000000</td>\n",
       "      <td>NaN</td>\n",
       "      <td>0.0</td>\n",
       "      <td>0.000000</td>\n",
       "      <td>...</td>\n",
       "      <td>2013.0</td>\n",
       "      <td>1.0</td>\n",
       "      <td>0.0</td>\n",
       "      <td>0.0</td>\n",
       "      <td>1122.0</td>\n",
       "      <td>5610.0</td>\n",
       "      <td>56.0</td>\n",
       "      <td>3.0</td>\n",
       "      <td>3.0</td>\n",
       "      <td>2013.0</td>\n",
       "    </tr>\n",
       "    <tr>\n",
       "      <td>4.579614e+11</td>\n",
       "      <td>NaN</td>\n",
       "      <td>3.703704e+02</td>\n",
       "      <td>0.000000</td>\n",
       "      <td>NaN</td>\n",
       "      <td>NaN</td>\n",
       "      <td>NaN</td>\n",
       "      <td>0.000000</td>\n",
       "      <td>NaN</td>\n",
       "      <td>0.0</td>\n",
       "      <td>0.000000</td>\n",
       "      <td>...</td>\n",
       "      <td>1994.0</td>\n",
       "      <td>1.0</td>\n",
       "      <td>0.0</td>\n",
       "      <td>0.0</td>\n",
       "      <td>1798.0</td>\n",
       "      <td>3312.0</td>\n",
       "      <td>33.0</td>\n",
       "      <td>2.0</td>\n",
       "      <td>2.0</td>\n",
       "      <td>2013.0</td>\n",
       "    </tr>\n",
       "    <tr>\n",
       "      <td>4.599561e+11</td>\n",
       "      <td>NaN</td>\n",
       "      <td>1.111111e+04</td>\n",
       "      <td>0.000000</td>\n",
       "      <td>NaN</td>\n",
       "      <td>NaN</td>\n",
       "      <td>NaN</td>\n",
       "      <td>0.000000</td>\n",
       "      <td>NaN</td>\n",
       "      <td>0.0</td>\n",
       "      <td>0.000000</td>\n",
       "      <td>...</td>\n",
       "      <td>2013.0</td>\n",
       "      <td>1.0</td>\n",
       "      <td>0.0</td>\n",
       "      <td>0.0</td>\n",
       "      <td>1202.0</td>\n",
       "      <td>5610.0</td>\n",
       "      <td>56.0</td>\n",
       "      <td>3.0</td>\n",
       "      <td>2.0</td>\n",
       "      <td>2013.0</td>\n",
       "    </tr>\n",
       "    <tr>\n",
       "      <td>4.601008e+11</td>\n",
       "      <td>NaN</td>\n",
       "      <td>1.987407e+04</td>\n",
       "      <td>17996.296875</td>\n",
       "      <td>NaN</td>\n",
       "      <td>NaN</td>\n",
       "      <td>NaN</td>\n",
       "      <td>0.000000</td>\n",
       "      <td>NaN</td>\n",
       "      <td>0.0</td>\n",
       "      <td>19544.445312</td>\n",
       "      <td>...</td>\n",
       "      <td>2012.0</td>\n",
       "      <td>1.0</td>\n",
       "      <td>0.0</td>\n",
       "      <td>1.0</td>\n",
       "      <td>1769.0</td>\n",
       "      <td>5610.0</td>\n",
       "      <td>56.0</td>\n",
       "      <td>3.0</td>\n",
       "      <td>3.0</td>\n",
       "      <td>2013.0</td>\n",
       "    </tr>\n",
       "    <tr>\n",
       "      <td>4.635628e+11</td>\n",
       "      <td>NaN</td>\n",
       "      <td>0.000000e+00</td>\n",
       "      <td>6444.444336</td>\n",
       "      <td>NaN</td>\n",
       "      <td>NaN</td>\n",
       "      <td>NaN</td>\n",
       "      <td>840.740723</td>\n",
       "      <td>NaN</td>\n",
       "      <td>0.0</td>\n",
       "      <td>0.000000</td>\n",
       "      <td>...</td>\n",
       "      <td>2010.0</td>\n",
       "      <td>2.0</td>\n",
       "      <td>0.0</td>\n",
       "      <td>0.0</td>\n",
       "      <td>2433.0</td>\n",
       "      <td>5630.0</td>\n",
       "      <td>56.0</td>\n",
       "      <td>3.0</td>\n",
       "      <td>2.0</td>\n",
       "      <td>2013.0</td>\n",
       "    </tr>\n",
       "  </tbody>\n",
       "</table>\n",
       "<p>632 rows × 32 columns</p>\n",
       "</div>"
      ],
      "text/plain": [
       "              amort   curr_assets      curr_liab    extra_exp     extra_inc  \\\n",
       "comp_id                                                                       \n",
       "1.263652e+06    NaN  0.000000e+00      59.259258     0.000000      0.000000   \n",
       "1.684924e+07    NaN  1.315942e+06  446049.385417  4870.370443  13408.642553   \n",
       "2.630451e+07    NaN  1.844444e+03       0.000000          NaN           NaN   \n",
       "4.070294e+07    NaN  0.000000e+00   20825.925781          NaN           NaN   \n",
       "5.783932e+07    NaN  1.377778e+03       0.000000     0.000000      0.000000   \n",
       "...             ...           ...            ...          ...           ...   \n",
       "4.511119e+11    NaN  1.111111e+04       0.000000          NaN           NaN   \n",
       "4.579614e+11    NaN  3.703704e+02       0.000000          NaN           NaN   \n",
       "4.599561e+11    NaN  1.111111e+04       0.000000          NaN           NaN   \n",
       "4.601008e+11    NaN  1.987407e+04   17996.296875          NaN           NaN   \n",
       "4.635628e+11    NaN  0.000000e+00    6444.444336          NaN           NaN   \n",
       "\n",
       "              extra_profit_loss   fixed_assets    inc_bef_tax  intang_assets  \\\n",
       "comp_id                                                                        \n",
       "1.263652e+06           0.000000       0.000000       0.000000            0.0   \n",
       "1.684924e+07        8538.271459  411479.010417  128454.317546            0.0   \n",
       "2.630451e+07                NaN       0.000000            NaN            0.0   \n",
       "4.070294e+07                NaN       0.000000            NaN            0.0   \n",
       "5.783932e+07           0.000000    1948.148193       0.000000            0.0   \n",
       "...                         ...            ...            ...            ...   \n",
       "4.511119e+11                NaN       0.000000            NaN            0.0   \n",
       "4.579614e+11                NaN       0.000000            NaN            0.0   \n",
       "4.599561e+11                NaN       0.000000            NaN            0.0   \n",
       "4.601008e+11                NaN       0.000000            NaN            0.0   \n",
       "4.635628e+11                NaN     840.740723            NaN            0.0   \n",
       "\n",
       "                inventories  ...  founded_year  ceo_count  foreign  female  \\\n",
       "comp_id                      ...                                             \n",
       "1.263652e+06       0.000000  ...           NaN        NaN      NaN     NaN   \n",
       "1.684924e+07  288822.218750  ...           NaN        NaN      NaN     NaN   \n",
       "2.630451e+07       0.000000  ...        2011.0        1.0      0.0     0.0   \n",
       "4.070294e+07       0.000000  ...        1995.0        1.0      0.0     1.0   \n",
       "5.783932e+07       0.000000  ...        1991.0        3.0      1.0     0.0   \n",
       "...                     ...  ...           ...        ...      ...     ...   \n",
       "4.511119e+11       0.000000  ...        2013.0        1.0      0.0     0.0   \n",
       "4.579614e+11       0.000000  ...        1994.0        1.0      0.0     0.0   \n",
       "4.599561e+11       0.000000  ...        2013.0        1.0      0.0     0.0   \n",
       "4.601008e+11   19544.445312  ...        2012.0        1.0      0.0     1.0   \n",
       "4.635628e+11       0.000000  ...        2010.0        2.0      0.0     0.0   \n",
       "\n",
       "              inoffice_days  nace_main  ind2  ind  urban_m  begin_year  \n",
       "comp_id                                                                 \n",
       "1.263652e+06            NaN     5610.0  56.0  3.0      1.0      2014.0  \n",
       "1.684924e+07            NaN     2825.0  28.0  2.0      3.0      2014.0  \n",
       "2.630451e+07         1086.0     5610.0  56.0  3.0      2.0      2013.0  \n",
       "4.070294e+07         3609.0     5520.0  55.0  3.0      3.0      2013.5  \n",
       "5.783932e+07         9133.0     5510.0  55.0  3.0      1.0      2014.0  \n",
       "...                     ...        ...   ...  ...      ...         ...  \n",
       "4.511119e+11         1122.0     5610.0  56.0  3.0      3.0      2013.0  \n",
       "4.579614e+11         1798.0     3312.0  33.0  2.0      2.0      2013.0  \n",
       "4.599561e+11         1202.0     5610.0  56.0  3.0      2.0      2013.0  \n",
       "4.601008e+11         1769.0     5610.0  56.0  3.0      3.0      2013.0  \n",
       "4.635628e+11         2433.0     5630.0  56.0  3.0      2.0      2013.0  \n",
       "\n",
       "[632 rows x 32 columns]"
      ]
     },
     "execution_count": 19,
     "metadata": {},
     "output_type": "execute_result"
    }
   ],
   "source": [
    "missing_cols = df.query(\"amort.isnull()\", engine=\"python\").groupby(\"comp_id\").mean()\n",
    "missing_cols"
   ]
  },
  {
   "cell_type": "code",
   "execution_count": 20,
   "metadata": {
    "scrolled": true
   },
   "outputs": [
    {
     "data": {
      "text/plain": [
       "<matplotlib.axes._subplots.AxesSubplot at 0x1afa519cfd0>"
      ]
     },
     "execution_count": 20,
     "metadata": {},
     "output_type": "execute_result"
    },
    {
     "data": {
      "image/png": "[encoded data removed]",
      "text/plain": [
       "<Figure size 1800x720 with 2 Axes>"
      ]
     },
     "metadata": {},
     "output_type": "display_data"
    }
   ],
   "source": [
    "msgno.matrix(df)"
   ]
  },
  {
   "cell_type": "markdown",
   "metadata": {},
   "source": [
    "As we can see there are 632 companies which do not have amortization data in the dataset."
   ]
  },
  {
   "cell_type": "code",
   "execution_count": 21,
   "metadata": {},
   "outputs": [
    {
     "data": {
      "text/plain": [
       "32365"
      ]
     },
     "execution_count": 21,
     "metadata": {},
     "output_type": "execute_result"
    }
   ],
   "source": [
    "df.comp_id.nunique()"
   ]
  },
  {
   "cell_type": "markdown",
   "metadata": {},
   "source": [
    "As there are 32365 different companies in our dataset I will get rid of the 632 companies without amortization data."
   ]
  },
  {
   "cell_type": "code",
   "execution_count": 22,
   "metadata": {},
   "outputs": [],
   "source": [
    "df.dropna(subset=[\"amort\"], inplace=True)"
   ]
  },
  {
   "cell_type": "markdown",
   "metadata": {},
   "source": [
    "In the following few lines I will be deleting all those observations where there is a missing value."
   ]
  },
  {
   "cell_type": "code",
   "execution_count": 23,
   "metadata": {},
   "outputs": [],
   "source": [
    "clean_df = df.dropna(subset=[\"foreign\"])"
   ]
  },
  {
   "cell_type": "code",
   "execution_count": 24,
   "metadata": {},
   "outputs": [],
   "source": [
    "clean_df = clean_df.dropna(subset=[\"curr_assets\"])"
   ]
  },
  {
   "cell_type": "code",
   "execution_count": 25,
   "metadata": {},
   "outputs": [],
   "source": [
    "clean_df = clean_df.dropna(subset=[\"ind\"])"
   ]
  },
  {
   "cell_type": "code",
   "execution_count": 26,
   "metadata": {},
   "outputs": [],
   "source": [
    "clean_df = clean_df.dropna(subset=[\"region_m\"])"
   ]
  },
  {
   "cell_type": "code",
   "execution_count": 27,
   "metadata": {},
   "outputs": [],
   "source": [
    "clean_df.dropna(inplace=True)"
   ]
  },
  {
   "cell_type": "markdown",
   "metadata": {},
   "source": [
    "As a next step I will make sure that there are only companies in the dataset which have values for each year. Those companies which do not have data for all the years will be deleted."
   ]
  },
  {
   "cell_type": "code",
   "execution_count": 28,
   "metadata": {},
   "outputs": [],
   "source": [
    "comp_del_list = list((set(clean_df.query(\"begin_year==2013\")['comp_id']).symmetric_difference(set(clean_df.query(\"begin_year==2014\")['comp_id']))))"
   ]
  },
  {
   "cell_type": "code",
   "execution_count": 29,
   "metadata": {},
   "outputs": [],
   "source": [
    "for company_id in comp_del_list:\n",
    "    clean_df = clean_df.query(\"comp_id!=@company_id\")"
   ]
  },
  {
   "cell_type": "code",
   "execution_count": 30,
   "metadata": {},
   "outputs": [
    {
     "data": {
      "text/plain": [
       "set()"
      ]
     },
     "execution_count": 30,
     "metadata": {},
     "output_type": "execute_result"
    }
   ],
   "source": [
    "set(clean_df.query(\"begin_year==2013\")['comp_id']).symmetric_difference(set(clean_df.query(\"begin_year==2014\")['comp_id']))"
   ]
  },
  {
   "cell_type": "code",
   "execution_count": 31,
   "metadata": {},
   "outputs": [],
   "source": [
    "comp_del_list = list(set(clean_df.query(\"begin_year==2014\")['comp_id']).symmetric_difference(set(clean_df.query(\"begin_year==2015\")['comp_id'])))"
   ]
  },
  {
   "cell_type": "code",
   "execution_count": 32,
   "metadata": {},
   "outputs": [],
   "source": [
    "for company_id in comp_del_list:\n",
    "    clean_df = clean_df.query(\"comp_id!=@company_id\")"
   ]
  },
  {
   "cell_type": "code",
   "execution_count": 33,
   "metadata": {},
   "outputs": [
    {
     "data": {
      "text/plain": [
       "set()"
      ]
     },
     "execution_count": 33,
     "metadata": {},
     "output_type": "execute_result"
    }
   ],
   "source": [
    "set(clean_df.query(\"begin_year==2013\")['comp_id']).symmetric_difference(set(clean_df.query(\"begin_year==2014\")['comp_id']))"
   ]
  },
  {
   "cell_type": "markdown",
   "metadata": {},
   "source": [
    "And now I check if the same amount of observations (companies) are present for every year."
   ]
  },
  {
   "cell_type": "code",
   "execution_count": 34,
   "metadata": {},
   "outputs": [
    {
     "data": {
      "text/plain": [
       "19787"
      ]
     },
     "execution_count": 34,
     "metadata": {},
     "output_type": "execute_result"
    }
   ],
   "source": [
    "clean_df.query(\"begin_year==2013\")['comp_id'].nunique()"
   ]
  },
  {
   "cell_type": "code",
   "execution_count": 35,
   "metadata": {},
   "outputs": [
    {
     "data": {
      "text/plain": [
       "19787"
      ]
     },
     "execution_count": 35,
     "metadata": {},
     "output_type": "execute_result"
    }
   ],
   "source": [
    "clean_df.query(\"begin_year==2014\")['comp_id'].nunique()"
   ]
  },
  {
   "cell_type": "code",
   "execution_count": 36,
   "metadata": {
    "scrolled": true
   },
   "outputs": [
    {
     "data": {
      "text/plain": [
       "19787"
      ]
     },
     "execution_count": 36,
     "metadata": {},
     "output_type": "execute_result"
    }
   ],
   "source": [
    "clean_df.query(\"begin_year==2015\")['comp_id'].nunique()"
   ]
  },
  {
   "cell_type": "code",
   "execution_count": 37,
   "metadata": {},
   "outputs": [
    {
     "data": {
      "text/plain": [
       "19787"
      ]
     },
     "execution_count": 37,
     "metadata": {},
     "output_type": "execute_result"
    }
   ],
   "source": [
    "clean_df.comp_id.nunique()"
   ]
  },
  {
   "cell_type": "markdown",
   "metadata": {},
   "source": [
    "As a next step I will hot encode all those columns (region, urban, gender, origin and industry 1 and industry 2) which have categorical data."
   ]
  },
  {
   "cell_type": "code",
   "execution_count": 39,
   "metadata": {},
   "outputs": [
    {
     "data": {
      "text/plain": [
       "array(['Central', 'East', 'West'], dtype=object)"
      ]
     },
     "execution_count": 39,
     "metadata": {},
     "output_type": "execute_result"
    }
   ],
   "source": [
    "clean_df.region_m.unique()"
   ]
  },
  {
   "cell_type": "code",
   "execution_count": 40,
   "metadata": {},
   "outputs": [],
   "source": [
    "clean_df = pd.get_dummies(clean_df, columns=[\"region_m\"], prefix=[\"region_m\"], drop_first=True) "
   ]
  },
  {
   "cell_type": "code",
   "execution_count": 41,
   "metadata": {},
   "outputs": [
    {
     "data": {
      "text/plain": [
       "array([1, 3, 2], dtype=int64)"
      ]
     },
     "execution_count": 41,
     "metadata": {},
     "output_type": "execute_result"
    }
   ],
   "source": [
    "clean_df.urban_m.unique()"
   ]
  },
  {
   "cell_type": "code",
   "execution_count": 42,
   "metadata": {},
   "outputs": [],
   "source": [
    "clean_df = pd.get_dummies(clean_df, columns=[\"urban_m\"], prefix=[\"urban_m\"], drop_first=True) "
   ]
  },
  {
   "cell_type": "code",
   "execution_count": 43,
   "metadata": {},
   "outputs": [
    {
     "data": {
      "text/plain": [
       "array([5630., 5610., 2711., 5510., 2920., 2732., 5629., 3020., 2899.,\n",
       "       2740., 3320., 3312., 5520., 5590., 2821., 2932., 2829., 2830.,\n",
       "       2651., 2822., 2825., 3011., 2620., 2670., 5530., 3314., 3030.,\n",
       "       2893., 2712., 2811., 2611., 2841., 2790., 2660., 2813., 2814.,\n",
       "       2823., 3313., 2612., 2630., 3316., 3092., 2894., 2849., 2931.,\n",
       "       2733., 2892., 3315., 2640., 2812., 3319., 5621., 2815., 2891.,\n",
       "       2751., 2824., 3091., 2895., 2896., 2752., 2652., 2910., 3012.,\n",
       "       3317., 2731., 2720., 3099., 3311., 2840., 2680.])"
      ]
     },
     "execution_count": 43,
     "metadata": {},
     "output_type": "execute_result"
    }
   ],
   "source": [
    "clean_df.nace_main.unique()"
   ]
  },
  {
   "cell_type": "code",
   "execution_count": 44,
   "metadata": {},
   "outputs": [
    {
     "data": {
      "text/plain": [
       "array(['mix', 'male', 'female'], dtype=object)"
      ]
     },
     "execution_count": 44,
     "metadata": {},
     "output_type": "execute_result"
    }
   ],
   "source": [
    "clean_df.gender.unique()"
   ]
  },
  {
   "cell_type": "code",
   "execution_count": 45,
   "metadata": {},
   "outputs": [],
   "source": [
    "clean_df = pd.get_dummies(clean_df, columns=[\"gender\"], prefix=[\"gender\"], drop_first=True)"
   ]
  },
  {
   "cell_type": "code",
   "execution_count": 46,
   "metadata": {},
   "outputs": [
    {
     "data": {
      "text/plain": [
       "array(['Domestic', 'Foreign', 'mix'], dtype=object)"
      ]
     },
     "execution_count": 46,
     "metadata": {},
     "output_type": "execute_result"
    }
   ],
   "source": [
    "clean_df.origin.unique()"
   ]
  },
  {
   "cell_type": "code",
   "execution_count": 47,
   "metadata": {},
   "outputs": [],
   "source": [
    "clean_df = pd.get_dummies(clean_df, columns=[\"origin\"], prefix=[\"origin\"], drop_first=True)"
   ]
  },
  {
   "cell_type": "code",
   "execution_count": 48,
   "metadata": {},
   "outputs": [
    {
     "data": {
      "text/plain": [
       "array([3., 2., 1.])"
      ]
     },
     "execution_count": 48,
     "metadata": {},
     "output_type": "execute_result"
    }
   ],
   "source": [
    "clean_df.ind.unique()"
   ]
  },
  {
   "cell_type": "code",
   "execution_count": 49,
   "metadata": {},
   "outputs": [],
   "source": [
    "clean_df = pd.get_dummies(clean_df, columns=[\"ind\"], prefix=[\"ind\"], drop_first=True)"
   ]
  },
  {
   "cell_type": "code",
   "execution_count": 50,
   "metadata": {},
   "outputs": [
    {
     "data": {
      "text/plain": [
       "array([56., 27., 55., 29., 30., 28., 33., 26.])"
      ]
     },
     "execution_count": 50,
     "metadata": {},
     "output_type": "execute_result"
    }
   ],
   "source": [
    "clean_df.ind2.unique()"
   ]
  },
  {
   "cell_type": "code",
   "execution_count": 51,
   "metadata": {},
   "outputs": [],
   "source": [
    "clean_df = pd.get_dummies(clean_df, columns=[\"ind2\"], prefix=[\"ind2\"], drop_first=True)"
   ]
  },
  {
   "cell_type": "code",
   "execution_count": 52,
   "metadata": {},
   "outputs": [
    {
     "data": {
      "text/plain": [
       "<matplotlib.axes._subplots.AxesSubplot at 0x1afa4bcd9e8>"
      ]
     },
     "execution_count": 52,
     "metadata": {},
     "output_type": "execute_result"
    },
    {
     "data": {
      "image/png": "[encoded data removed]",
      "text/plain": [
       "<Figure size 1800x720 with 2 Axes>"
      ]
     },
     "metadata": {},
     "output_type": "display_data"
    }
   ],
   "source": [
    "msgno.matrix(clean_df)"
   ]
  },
  {
   "cell_type": "code",
   "execution_count": 53,
   "metadata": {},
   "outputs": [
    {
     "data": {
      "text/plain": [
       "array([5630., 5610., 2711., 5510., 2920., 2732., 5629., 3020., 2899.,\n",
       "       2740., 3320., 3312., 5520., 5590., 2821., 2932., 2829., 2830.,\n",
       "       2651., 2822., 2825., 3011., 2620., 2670., 5530., 3314., 3030.,\n",
       "       2893., 2712., 2811., 2611., 2841., 2790., 2660., 2813., 2814.,\n",
       "       2823., 3313., 2612., 2630., 3316., 3092., 2894., 2849., 2931.,\n",
       "       2733., 2892., 3315., 2640., 2812., 3319., 5621., 2815., 2891.,\n",
       "       2751., 2824., 3091., 2895., 2896., 2752., 2652., 2910., 3012.,\n",
       "       3317., 2731., 2720., 3099., 3311., 2840., 2680.])"
      ]
     },
     "execution_count": 53,
     "metadata": {},
     "output_type": "execute_result"
    }
   ],
   "source": [
    "clean_df.nace_main.unique()"
   ]
  },
  {
   "cell_type": "markdown",
   "metadata": {},
   "source": [
    "I will preserve only the first two characters of the nace_main code."
   ]
  },
  {
   "cell_type": "code",
   "execution_count": 62,
   "metadata": {},
   "outputs": [],
   "source": [
    "clean_df.nace_main = clean_df.nace_main.apply(lambda x: str(x)[:2])"
   ]
  },
  {
   "cell_type": "code",
   "execution_count": 64,
   "metadata": {},
   "outputs": [],
   "source": [
    "clean_df = pd.get_dummies(clean_df, columns=[\"nace_main\"], prefix=[\"nace\"], drop_first=True)"
   ]
  },
  {
   "cell_type": "code",
   "execution_count": 65,
   "metadata": {},
   "outputs": [
    {
     "data": {
      "text/html": [
       "<div>\n",
       "<style scoped>\n",
       "    .dataframe tbody tr th:only-of-type {\n",
       "        vertical-align: middle;\n",
       "    }\n",
       "\n",
       "    .dataframe tbody tr th {\n",
       "        vertical-align: top;\n",
       "    }\n",
       "\n",
       "    .dataframe thead th {\n",
       "        text-align: right;\n",
       "    }\n",
       "</style>\n",
       "<table border=\"1\" class=\"dataframe\">\n",
       "  <thead>\n",
       "    <tr style=\"text-align: right;\">\n",
       "      <th></th>\n",
       "      <th>comp_id</th>\n",
       "      <th>begin</th>\n",
       "      <th>end</th>\n",
       "      <th>amort</th>\n",
       "      <th>curr_assets</th>\n",
       "      <th>curr_liab</th>\n",
       "      <th>extra_exp</th>\n",
       "      <th>extra_inc</th>\n",
       "      <th>extra_profit_loss</th>\n",
       "      <th>fixed_assets</th>\n",
       "      <th>...</th>\n",
       "      <th>ind2_33.0</th>\n",
       "      <th>ind2_55.0</th>\n",
       "      <th>ind2_56.0</th>\n",
       "      <th>nace_27</th>\n",
       "      <th>nace_28</th>\n",
       "      <th>nace_29</th>\n",
       "      <th>nace_30</th>\n",
       "      <th>nace_33</th>\n",
       "      <th>nace_55</th>\n",
       "      <th>nace_56</th>\n",
       "    </tr>\n",
       "  </thead>\n",
       "  <tbody>\n",
       "    <tr>\n",
       "      <td>8</td>\n",
       "      <td>1001034.0</td>\n",
       "      <td>2013-01-01 00:01:00</td>\n",
       "      <td>2013-01-31 00:12:00</td>\n",
       "      <td>140.740738</td>\n",
       "      <td>140.740738</td>\n",
       "      <td>21851.851562</td>\n",
       "      <td>0.0</td>\n",
       "      <td>0.000000</td>\n",
       "      <td>0.000000</td>\n",
       "      <td>200.000000</td>\n",
       "      <td>...</td>\n",
       "      <td>0</td>\n",
       "      <td>0</td>\n",
       "      <td>1</td>\n",
       "      <td>0</td>\n",
       "      <td>0</td>\n",
       "      <td>0</td>\n",
       "      <td>0</td>\n",
       "      <td>0</td>\n",
       "      <td>0</td>\n",
       "      <td>1</td>\n",
       "    </tr>\n",
       "    <tr>\n",
       "      <td>9</td>\n",
       "      <td>1001034.0</td>\n",
       "      <td>2014-01-01 00:01:00</td>\n",
       "      <td>2014-01-31 00:12:00</td>\n",
       "      <td>29.629629</td>\n",
       "      <td>144.444443</td>\n",
       "      <td>22340.740234</td>\n",
       "      <td>0.0</td>\n",
       "      <td>0.000000</td>\n",
       "      <td>0.000000</td>\n",
       "      <td>170.370377</td>\n",
       "      <td>...</td>\n",
       "      <td>0</td>\n",
       "      <td>0</td>\n",
       "      <td>1</td>\n",
       "      <td>0</td>\n",
       "      <td>0</td>\n",
       "      <td>0</td>\n",
       "      <td>0</td>\n",
       "      <td>0</td>\n",
       "      <td>0</td>\n",
       "      <td>1</td>\n",
       "    </tr>\n",
       "    <tr>\n",
       "      <td>10</td>\n",
       "      <td>1001034.0</td>\n",
       "      <td>2015-01-01 00:01:00</td>\n",
       "      <td>2015-01-31 00:12:00</td>\n",
       "      <td>3.703704</td>\n",
       "      <td>140.740738</td>\n",
       "      <td>22888.888672</td>\n",
       "      <td>0.0</td>\n",
       "      <td>0.000000</td>\n",
       "      <td>0.000000</td>\n",
       "      <td>166.666672</td>\n",
       "      <td>...</td>\n",
       "      <td>0</td>\n",
       "      <td>0</td>\n",
       "      <td>1</td>\n",
       "      <td>0</td>\n",
       "      <td>0</td>\n",
       "      <td>0</td>\n",
       "      <td>0</td>\n",
       "      <td>0</td>\n",
       "      <td>0</td>\n",
       "      <td>1</td>\n",
       "    </tr>\n",
       "    <tr>\n",
       "      <td>15</td>\n",
       "      <td>1001541.0</td>\n",
       "      <td>2013-01-01 00:01:00</td>\n",
       "      <td>2013-01-31 00:12:00</td>\n",
       "      <td>2292.592529</td>\n",
       "      <td>4811.111328</td>\n",
       "      <td>925.925903</td>\n",
       "      <td>0.0</td>\n",
       "      <td>74.074074</td>\n",
       "      <td>74.074074</td>\n",
       "      <td>188274.078125</td>\n",
       "      <td>...</td>\n",
       "      <td>0</td>\n",
       "      <td>0</td>\n",
       "      <td>1</td>\n",
       "      <td>0</td>\n",
       "      <td>0</td>\n",
       "      <td>0</td>\n",
       "      <td>0</td>\n",
       "      <td>0</td>\n",
       "      <td>0</td>\n",
       "      <td>1</td>\n",
       "    </tr>\n",
       "    <tr>\n",
       "      <td>16</td>\n",
       "      <td>1001541.0</td>\n",
       "      <td>2014-01-01 00:01:00</td>\n",
       "      <td>2014-01-31 00:12:00</td>\n",
       "      <td>2292.592529</td>\n",
       "      <td>6500.000000</td>\n",
       "      <td>296.296295</td>\n",
       "      <td>0.0</td>\n",
       "      <td>0.000000</td>\n",
       "      <td>0.000000</td>\n",
       "      <td>185981.484375</td>\n",
       "      <td>...</td>\n",
       "      <td>0</td>\n",
       "      <td>0</td>\n",
       "      <td>1</td>\n",
       "      <td>0</td>\n",
       "      <td>0</td>\n",
       "      <td>0</td>\n",
       "      <td>0</td>\n",
       "      <td>0</td>\n",
       "      <td>0</td>\n",
       "      <td>1</td>\n",
       "    </tr>\n",
       "  </tbody>\n",
       "</table>\n",
       "<p>5 rows × 56 columns</p>\n",
       "</div>"
      ],
      "text/plain": [
       "      comp_id               begin                 end        amort  \\\n",
       "8   1001034.0 2013-01-01 00:01:00 2013-01-31 00:12:00   140.740738   \n",
       "9   1001034.0 2014-01-01 00:01:00 2014-01-31 00:12:00    29.629629   \n",
       "10  1001034.0 2015-01-01 00:01:00 2015-01-31 00:12:00     3.703704   \n",
       "15  1001541.0 2013-01-01 00:01:00 2013-01-31 00:12:00  2292.592529   \n",
       "16  1001541.0 2014-01-01 00:01:00 2014-01-31 00:12:00  2292.592529   \n",
       "\n",
       "    curr_assets     curr_liab  extra_exp  extra_inc  extra_profit_loss  \\\n",
       "8    140.740738  21851.851562        0.0   0.000000           0.000000   \n",
       "9    144.444443  22340.740234        0.0   0.000000           0.000000   \n",
       "10   140.740738  22888.888672        0.0   0.000000           0.000000   \n",
       "15  4811.111328    925.925903        0.0  74.074074          74.074074   \n",
       "16  6500.000000    296.296295        0.0   0.000000           0.000000   \n",
       "\n",
       "     fixed_assets  ...  ind2_33.0  ind2_55.0  ind2_56.0  nace_27  nace_28  \\\n",
       "8      200.000000  ...          0          0          1        0        0   \n",
       "9      170.370377  ...          0          0          1        0        0   \n",
       "10     166.666672  ...          0          0          1        0        0   \n",
       "15  188274.078125  ...          0          0          1        0        0   \n",
       "16  185981.484375  ...          0          0          1        0        0   \n",
       "\n",
       "    nace_29  nace_30  nace_33  nace_55  nace_56  \n",
       "8         0        0        0        0        1  \n",
       "9         0        0        0        0        1  \n",
       "10        0        0        0        0        1  \n",
       "15        0        0        0        0        1  \n",
       "16        0        0        0        0        1  \n",
       "\n",
       "[5 rows x 56 columns]"
      ]
     },
     "execution_count": 65,
     "metadata": {},
     "output_type": "execute_result"
    }
   ],
   "source": [
    "clean_df.head()"
   ]
  },
  {
   "cell_type": "code",
   "execution_count": 66,
   "metadata": {},
   "outputs": [
    {
     "data": {
      "text/plain": [
       "<matplotlib.axes._subplots.AxesSubplot at 0x1afa68297b8>"
      ]
     },
     "execution_count": 66,
     "metadata": {},
     "output_type": "execute_result"
    },
    {
     "data": {
      "image/png": "[encoded data removed]",
      "text/plain": [
       "<Figure size 1800x720 with 2 Axes>"
      ]
     },
     "metadata": {},
     "output_type": "display_data"
    }
   ],
   "source": [
    "msgno.matrix(clean_df)"
   ]
  },
  {
   "cell_type": "markdown",
   "metadata": {},
   "source": [
    "LOADING"
   ]
  },
  {
   "cell_type": "code",
   "execution_count": 2,
   "metadata": {},
   "outputs": [],
   "source": [
    "#os.chdir(\"C:\\\\Lori\\\\Suli\\\\Szemeszter_2\\\\Data_Analysis_3\\\\DA3-A2-BISNODE\")\n",
    "os.chdir(\"c:\\\\Lori\\\\Data_analysis_3\")\n",
    "clean_df=pd.read_csv(\"clean_df.csv\")"
   ]
  },
  {
   "cell_type": "markdown",
   "metadata": {},
   "source": [
    "***"
   ]
  },
  {
   "cell_type": "markdown",
   "metadata": {},
   "source": [
    "I will be deleting the foundation date as I already have the information in the founded year."
   ]
  },
  {
   "cell_type": "code",
   "execution_count": 3,
   "metadata": {},
   "outputs": [],
   "source": [
    "del clean_df[\"founded_date\"]"
   ]
  },
  {
   "cell_type": "markdown",
   "metadata": {},
   "source": [
    "I will be creating some new features which is based on liability/equity ratio and the asset/liability ratio."
   ]
  },
  {
   "cell_type": "code",
   "execution_count": 4,
   "metadata": {},
   "outputs": [],
   "source": [
    "clean_df[\"liability_equity_ratio\"] = clean_df['curr_liab']/clean_df['share_eq']\n",
    "clean_df[\"asset_liability_ratio\"] = clean_df['curr_assets'] / clean_df['curr_liab']"
   ]
  },
  {
   "cell_type": "markdown",
   "metadata": {},
   "source": [
    "As a target variable I will choose a binary variable which shows if a company reached a sales increase over a certain percentage. The actual value I will determine only when I am able to see how the companies in the dataset are performing. Therefore in the next few lines I will add a new variable called 'sales_change_percentage'. This variable will show the increase/decrease in sales between the first and the last year of the dataset, namely 2013-2015."
   ]
  },
  {
   "cell_type": "code",
   "execution_count": 5,
   "metadata": {},
   "outputs": [],
   "source": [
    "clean_df.sort_values(['comp_id', 'year'], inplace=True)"
   ]
  },
  {
   "cell_type": "code",
   "execution_count": 6,
   "metadata": {},
   "outputs": [],
   "source": [
    "clean_df['sales_change_percentage'] = clean_df.groupby('comp_id')['sales'].pct_change(periods=2)"
   ]
  },
  {
   "cell_type": "code",
   "execution_count": 7,
   "metadata": {},
   "outputs": [],
   "source": [
    "selected_cols = ['comp_id','sales', 'sales_change_percentage']"
   ]
  },
  {
   "cell_type": "code",
   "execution_count": 8,
   "metadata": {},
   "outputs": [],
   "source": [
    "pd.set_option('display.float_format', lambda x: f'{x:,.3f}')"
   ]
  },
  {
   "cell_type": "code",
   "execution_count": 9,
   "metadata": {},
   "outputs": [],
   "source": [
    "clean_df['sales_change_percentage'] = clean_df['sales_change_percentage']+1"
   ]
  },
  {
   "cell_type": "markdown",
   "metadata": {},
   "source": [
    "There are 742 infinite values after calculating sales changes in two years. These might happen because there are changes from 0 values which could be infinite.\n",
    "As there are around 19.700 companies in the dataset I will delete these companies."
   ]
  },
  {
   "cell_type": "code",
   "execution_count": 10,
   "metadata": {},
   "outputs": [],
   "source": [
    "inf_comps=[]\n",
    "def collect_inf_companies(row):\n",
    "    if np.isinf(row['sales_change_percentage'])==True:\n",
    "        inf_comps.append(row[\"comp_id\"])"
   ]
  },
  {
   "cell_type": "code",
   "execution_count": 11,
   "metadata": {},
   "outputs": [
    {
     "data": {
      "text/plain": [
       "0        None\n",
       "1        None\n",
       "2        None\n",
       "3        None\n",
       "4        None\n",
       "         ... \n",
       "59356    None\n",
       "59357    None\n",
       "59358    None\n",
       "59359    None\n",
       "59360    None\n",
       "Length: 59361, dtype: object"
      ]
     },
     "execution_count": 11,
     "metadata": {},
     "output_type": "execute_result"
    }
   ],
   "source": [
    "clean_df.apply(collect_inf_companies, axis=1)"
   ]
  },
  {
   "cell_type": "code",
   "execution_count": 12,
   "metadata": {},
   "outputs": [],
   "source": [
    "for comp_name in inf_comps:\n",
    "    clean_df = clean_df.query(\"comp_id!=@comp_name\")"
   ]
  },
  {
   "cell_type": "code",
   "execution_count": 13,
   "metadata": {},
   "outputs": [
    {
     "data": {
      "text/plain": [
       "0"
      ]
     },
     "execution_count": 13,
     "metadata": {},
     "output_type": "execute_result"
    }
   ],
   "source": [
    "np.isinf(clean_df['sales_change_percentage']).sum()"
   ]
  },
  {
   "cell_type": "markdown",
   "metadata": {},
   "source": [
    "The next step is a rather complex step. I will create two datasets from my main dataset. This is because I will feature engineer the data within these two datasets differently. After I feature engineered them I will reunite them.\n",
    "In the first step I will create the first dataset where I will calculate the percentage changes between the years and then create a wide format table from the long format as I will be needing one company per one line.\n",
    "\n",
    "In the second step I will create the second dataset where I will calculate the mean values for the features.\n",
    "Of course in a real world project calculating mean might not be enough, maybe maximum, minimum, standard deviation values would also add to the model. But as my time is reduced I will calculate only the mean of the features.\n",
    "\n",
    "In my last step I will rejoin both datasets, so I will get a wide table containing the percentage changes of the features over the years and the mean value of the features as well.\n"
   ]
  },
  {
   "cell_type": "code",
   "execution_count": 90,
   "metadata": {},
   "outputs": [],
   "source": [
    "test=clean_df.copy()"
   ]
  },
  {
   "cell_type": "code",
   "execution_count": 91,
   "metadata": {},
   "outputs": [],
   "source": [
    "cols=[\"amort\", \"curr_assets\", \"curr_liab\", \"extra_exp\", \"extra_inc\", \"extra_profit_loss\", \"fixed_assets\", \"inc_bef_tax\", \\\n",
    "      \"intang_assets\", \"inventories\", \"liq_assets\", \"material_exp\", \"personnel_exp\", \"profit_loss_year\", \"sales\", \"share_eq\",\\\n",
    "      \"subscribed_cap\", \"tang_assets\", \"balsheet_notfullyear\"]\n",
    "\n",
    "counter=0\n",
    "\n",
    "for col_name in cols:\n",
    "    counter +=1\n",
    "    \n",
    "    period=2\n",
    "    first_col_name= col_name + \"_change_\" + str(period)\n",
    "    test[first_col_name] = test.groupby(\"comp_id\")[col_name].pct_change(periods=period)+1\n",
    "    \n",
    "    period=1\n",
    "    second_col_name= col_name + \"_change_over_years\"\n",
    "    test[second_col_name] = test.groupby(\"comp_id\")[col_name].pct_change(periods=period)+1\n",
    "    \n",
    "    new_df_name_1 = col_name + \"_df_1\"\n",
    "    new_df_name_1 = test.groupby(\"comp_id\")[first_col_name].apply(list).apply(pd.Series).rename(columns=lambda x: first_col_name+'_{}'.format(x+1))\n",
    "    \n",
    "    new_df_name_2 = col_name + \"_df_2\"\n",
    "    new_df_name_2 = test.groupby(\"comp_id\")[second_col_name].apply(list).apply(pd.Series).rename(columns=lambda x: second_col_name+'_{}'.format(x+1))\n",
    "    \n",
    "    if counter==1:\n",
    "        final_df_1 = pd.merge(new_df_name_1, new_df_name_2, left_index=True, right_index=True, how='left')\n",
    "    else:\n",
    "        final_df_1=pd.merge(final_df_1,new_df_name_1,left_index=True, right_index=True, how='left')\n",
    "        final_df_1=pd.merge(final_df_1,new_df_name_2,left_index=True, right_index=True, how='left')\n",
    "       \n",
    "   \n",
    "    \n",
    "    "
   ]
  },
  {
   "cell_type": "code",
   "execution_count": 93,
   "metadata": {},
   "outputs": [
    {
     "data": {
      "text/plain": [
       "Index(['amort_change_2_3', 'amort_change_over_years_2',\n",
       "       'amort_change_over_years_3', 'curr_assets_change_2_3',\n",
       "       'curr_assets_change_over_years_2', 'curr_assets_change_over_years_3',\n",
       "       'curr_liab_change_2_3', 'curr_liab_change_over_years_2',\n",
       "       'curr_liab_change_over_years_3', 'extra_exp_change_2_3',\n",
       "       'extra_exp_change_over_years_2', 'extra_exp_change_over_years_3',\n",
       "       'extra_inc_change_2_3', 'extra_inc_change_over_years_2',\n",
       "       'extra_inc_change_over_years_3', 'extra_profit_loss_change_2_3',\n",
       "       'extra_profit_loss_change_over_years_2',\n",
       "       'extra_profit_loss_change_over_years_3', 'fixed_assets_change_2_3',\n",
       "       'fixed_assets_change_over_years_2', 'fixed_assets_change_over_years_3',\n",
       "       'inc_bef_tax_change_2_3', 'inc_bef_tax_change_over_years_2',\n",
       "       'inc_bef_tax_change_over_years_3', 'intang_assets_change_2_3',\n",
       "       'intang_assets_change_over_years_2',\n",
       "       'intang_assets_change_over_years_3', 'inventories_change_2_3',\n",
       "       'inventories_change_over_years_2', 'inventories_change_over_years_3',\n",
       "       'liq_assets_change_2_3', 'liq_assets_change_over_years_2',\n",
       "       'liq_assets_change_over_years_3', 'material_exp_change_2_3',\n",
       "       'material_exp_change_over_years_2', 'material_exp_change_over_years_3',\n",
       "       'personnel_exp_change_2_3', 'personnel_exp_change_over_years_2',\n",
       "       'personnel_exp_change_over_years_3', 'profit_loss_year_change_2_3',\n",
       "       'profit_loss_year_change_over_years_2',\n",
       "       'profit_loss_year_change_over_years_3', 'sales_change_2_3',\n",
       "       'sales_change_over_years_2', 'share_eq_change_2_3',\n",
       "       'share_eq_change_over_years_2', 'share_eq_change_over_years_3',\n",
       "       'subscribed_cap_change_2_3', 'subscribed_cap_change_over_years_2',\n",
       "       'subscribed_cap_change_over_years_3', 'tang_assets_change_2_3',\n",
       "       'tang_assets_change_over_years_2', 'tang_assets_change_over_years_3',\n",
       "       'balsheet_notfullyear_change_2_3',\n",
       "       'balsheet_notfullyear_change_over_years_2',\n",
       "       'balsheet_notfullyear_change_over_years_3', 'balsheet_length',\n",
       "       'liability_equity_ratio', 'asset_liability_ratio', 'extra_profit_loss',\n",
       "       'share_eq', 'sales', 'share_eq', 'curr_assets', 'curr_liab',\n",
       "       'founded_year', 'ceo_count', 'foreign', 'female', 'inoffice_days',\n",
       "       'begin_year', 'region_m_East', 'region_m_West', 'urban_m_2',\n",
       "       'urban_m_3', 'gender_male', 'gender_mix', 'origin_Foreign',\n",
       "       'origin_mix', 'ind_2.0', 'ind_3.0', 'nace_27', 'ind2_28.0', 'ind2_29.0',\n",
       "       'nace_30', 'nace_33', 'nace_55', 'nace_56'],\n",
       "      dtype='object')"
      ]
     },
     "execution_count": 93,
     "metadata": {},
     "output_type": "execute_result"
    }
   ],
   "source": [
    "final_df.columns"
   ]
  },
  {
   "cell_type": "code",
   "execution_count": 94,
   "metadata": {},
   "outputs": [],
   "source": [
    "del final_df['sales_change_2_3']"
   ]
  },
  {
   "cell_type": "code",
   "execution_count": 95,
   "metadata": {},
   "outputs": [],
   "source": [
    "select_cols = final_df_1.columns"
   ]
  },
  {
   "cell_type": "code",
   "execution_count": 96,
   "metadata": {},
   "outputs": [],
   "source": [
    "for col_name in select_cols:\n",
    "    if final_df_1[col_name].isna().all():\n",
    "        del final_df_1[col_name]"
   ]
  },
  {
   "cell_type": "code",
   "execution_count": 97,
   "metadata": {},
   "outputs": [],
   "source": [
    "final_df_1.fillna(0, inplace=True)"
   ]
  },
  {
   "cell_type": "code",
   "execution_count": 98,
   "metadata": {},
   "outputs": [],
   "source": [
    "select_cols = [\"balsheet_length\", \"liability_equity_ratio\", \"asset_liability_ratio\", \"extra_profit_loss\", \"share_eq\", \"sales\",\\\n",
    "               \"share_eq\", \"curr_assets\", \"curr_liab\", \"founded_year\", \"ceo_count\", \"foreign\", \"female\", \"inoffice_days\",\\\n",
    "               \"begin_year\", \"region_m_East\", \"region_m_West\", \"urban_m_2\", \"urban_m_3\", \"gender_male\", \"gender_mix\", \\\n",
    "               \"origin_Foreign\", \"origin_mix\", \"ind_2.0\", \"ind_3.0\", \"nace_27\", \"ind2_28.0\", \"ind2_29.0\", \"nace_30\",\\\n",
    "               \"nace_33\", \"nace_55\", \"nace_56\"]"
   ]
  },
  {
   "cell_type": "code",
   "execution_count": 99,
   "metadata": {},
   "outputs": [],
   "source": [
    "final_df_2 = test.groupby(\"comp_id\")[select_cols].mean()"
   ]
  },
  {
   "cell_type": "markdown",
   "metadata": {},
   "source": [
    "There are some missing values present in the second dataset for the \"liability_equity_ratio\", \"asset_liability_ratio\". I will fill this nan values with 0. Same applies to the infinite values."
   ]
  },
  {
   "cell_type": "code",
   "execution_count": 100,
   "metadata": {},
   "outputs": [],
   "source": [
    "final_df_2.replace([np.inf, -np.inf], np.nan,inplace=True)\n",
    "final_df_2.fillna(0, inplace=True)"
   ]
  },
  {
   "cell_type": "markdown",
   "metadata": {},
   "source": [
    "Creating a separate dataset for sales in order to have the average of sales only for the first two years (having the third year sales in the mean is kind of a cheating). "
   ]
  },
  {
   "cell_type": "code",
   "execution_count": 101,
   "metadata": {},
   "outputs": [],
   "source": [
    "sales=test[[\"comp_id\", \"year\" ,\"sales\"]]"
   ]
  },
  {
   "cell_type": "code",
   "execution_count": 102,
   "metadata": {},
   "outputs": [
    {
     "data": {
      "text/plain": [
       "array([2013, 2014, 2015], dtype=int64)"
      ]
     },
     "execution_count": 102,
     "metadata": {},
     "output_type": "execute_result"
    }
   ],
   "source": [
    "sales.year.unique()"
   ]
  },
  {
   "cell_type": "code",
   "execution_count": 103,
   "metadata": {},
   "outputs": [],
   "source": [
    "sales = sales.query(\"year!=2015\")"
   ]
  },
  {
   "cell_type": "code",
   "execution_count": 104,
   "metadata": {},
   "outputs": [],
   "source": [
    "sales = sales.groupby(\"comp_id\")[\"sales\"].mean()"
   ]
  },
  {
   "cell_type": "code",
   "execution_count": 105,
   "metadata": {},
   "outputs": [],
   "source": [
    "del final_df_2[\"sales\"]"
   ]
  },
  {
   "cell_type": "code",
   "execution_count": 106,
   "metadata": {},
   "outputs": [],
   "source": [
    "final_df_2=pd.merge(final_df_2, sales, left_index=True, right_index=True, how=\"left\")"
   ]
  },
  {
   "cell_type": "markdown",
   "metadata": {},
   "source": [
    "As both datasets are cleaned it is time to merge them."
   ]
  },
  {
   "cell_type": "code",
   "execution_count": 108,
   "metadata": {},
   "outputs": [],
   "source": [
    "final_df = pd.merge(final_df_1, final_df_2, left_index=True, right_index=True, how=\"left\")"
   ]
  },
  {
   "cell_type": "code",
   "execution_count": 109,
   "metadata": {
    "scrolled": false
   },
   "outputs": [
    {
     "data": {
      "text/plain": [
       "(19046, 89)"
      ]
     },
     "execution_count": 109,
     "metadata": {},
     "output_type": "execute_result"
    }
   ],
   "source": [
    "final_df.shape"
   ]
  },
  {
   "cell_type": "markdown",
   "metadata": {},
   "source": [
    "Examining the target variable."
   ]
  },
  {
   "cell_type": "code",
   "execution_count": 111,
   "metadata": {},
   "outputs": [
    {
     "data": {
      "text/plain": [
       "count    19,046.000\n",
       "mean         12.452\n",
       "std         988.208\n",
       "min          -4.981\n",
       "25%           0.395\n",
       "50%           1.031\n",
       "75%           1.430\n",
       "max     129,887.004\n",
       "Name: sales_change_2_3, dtype: float64"
      ]
     },
     "execution_count": 111,
     "metadata": {},
     "output_type": "execute_result"
    }
   ],
   "source": [
    "final_df[\"sales_change_2_3\"].describe()"
   ]
  },
  {
   "cell_type": "markdown",
   "metadata": {},
   "source": [
    "There are some really extreme values so I will set the maximum growth to 250%. The boolean target variable will be one if the sales change percentage is equal or bigger than 108%.\n"
   ]
  },
  {
   "cell_type": "code",
   "execution_count": 112,
   "metadata": {},
   "outputs": [],
   "source": [
    "final_df[\"sales_change_2_3\"] = final_df[\"sales_change_2_3\"].apply(lambda value: 2.5 if value>=2.5 else value)"
   ]
  },
  {
   "cell_type": "code",
   "execution_count": 113,
   "metadata": {},
   "outputs": [],
   "source": [
    "def create_boolean_var(value):\n",
    "    if value>=1.08:\n",
    "        return 1\n",
    "    else:\n",
    "        return 0\n",
    "    "
   ]
  },
  {
   "cell_type": "code",
   "execution_count": 115,
   "metadata": {},
   "outputs": [],
   "source": [
    "final_df[\"is_growth_over_8_perc\"] = final_df[\"sales_change_2_3\"].apply(create_boolean_var)"
   ]
  },
  {
   "cell_type": "code",
   "execution_count": 134,
   "metadata": {},
   "outputs": [],
   "source": [
    "final_df.replace([np.inf, -np.inf], np.nan, inplace=True)"
   ]
  },
  {
   "cell_type": "code",
   "execution_count": 136,
   "metadata": {},
   "outputs": [],
   "source": [
    "final_df.fillna(0,inplace=True)"
   ]
  },
  {
   "cell_type": "markdown",
   "metadata": {},
   "source": [
    "***"
   ]
  },
  {
   "cell_type": "markdown",
   "metadata": {},
   "source": [
    "**Creating the probability models**"
   ]
  },
  {
   "cell_type": "code",
   "execution_count": 197,
   "metadata": {},
   "outputs": [],
   "source": [
    "train_test, holdout = train_test_split(final_df, test_size=0.2, random_state=42)"
   ]
  },
  {
   "cell_type": "code",
   "execution_count": 246,
   "metadata": {},
   "outputs": [],
   "source": [
    "X = train_test.drop(columns=[\"is_growth_over_8_perc\",\"sales_change_2_3\"])\n",
    "y=train_test[\"is_growth_over_8_perc\"]"
   ]
  },
  {
   "cell_type": "code",
   "execution_count": 235,
   "metadata": {},
   "outputs": [],
   "source": [
    "from sklearn.metrics import classification_report, confusion_matrix, roc_auc_score, roc_curve, auc\n",
    "from sklearn.linear_model import LogisticRegressionCV, Lasso, RidgeClassifier\n",
    "from sklearn.ensemble import RandomForestClassifier\n",
    "from sklearn.preprocessing import StandardScaler\n",
    "from sklearn.model_selection import train_test_split, cross_val_score\n"
   ]
  },
  {
   "cell_type": "code",
   "execution_count": 247,
   "metadata": {},
   "outputs": [],
   "source": [
    "X_train, X_test, y_train,y_test = train_test_split(X,y,test_size=0.20, random_state=42)"
   ]
  },
  {
   "cell_type": "markdown",
   "metadata": {},
   "source": [
    "**Logistic regressor with 5 CV**"
   ]
  },
  {
   "cell_type": "code",
   "execution_count": 202,
   "metadata": {},
   "outputs": [
    {
     "name": "stderr",
     "output_type": "stream",
     "text": [
      "C:\\Users\\Pali\\.conda\\envs\\egis_base_2\\lib\\site-packages\\sklearn\\linear_model\\logistic.py:947: ConvergenceWarning: lbfgs failed to converge. Increase the number of iterations.\n",
      "  \"of iterations.\", ConvergenceWarning)\n"
     ]
    }
   ],
   "source": [
    "logreg=LogisticRegressionCV(cv=5)\n",
    "logreg.fit(X_train,y_train)\n",
    "\n",
    "log_pred = logreg.predict(X_test)\n",
    "\n"
   ]
  },
  {
   "cell_type": "code",
   "execution_count": 203,
   "metadata": {},
   "outputs": [
    {
     "data": {
      "text/plain": [
       "array([[1617,   35],\n",
       "       [1321,   75]], dtype=int64)"
      ]
     },
     "execution_count": 203,
     "metadata": {},
     "output_type": "execute_result"
    }
   ],
   "source": [
    "confusion_matrix(y_test, log_pred)"
   ]
  },
  {
   "cell_type": "code",
   "execution_count": 204,
   "metadata": {},
   "outputs": [
    {
     "name": "stdout",
     "output_type": "stream",
     "text": [
      "              precision    recall  f1-score   support\n",
      "\n",
      "           0       0.55      0.98      0.70      1652\n",
      "           1       0.68      0.05      0.10      1396\n",
      "\n",
      "    accuracy                           0.56      3048\n",
      "   macro avg       0.62      0.52      0.40      3048\n",
      "weighted avg       0.61      0.56      0.43      3048\n",
      "\n"
     ]
    }
   ],
   "source": [
    "print(classification_report(y_test, log_pred))"
   ]
  },
  {
   "cell_type": "code",
   "execution_count": 205,
   "metadata": {},
   "outputs": [
    {
     "data": {
      "image/png": "[encoded data removed]",
      "text/plain": [
       "<Figure size 720x720 with 1 Axes>"
      ]
     },
     "metadata": {
      "needs_background": "light"
     },
     "output_type": "display_data"
    }
   ],
   "source": [
    "false_positive_rate1, true_positive_rate1, threshold1 = roc_curve(y_test, log_pred)\n",
    "\n",
    "\n",
    "# Plot ROC curves\n",
    "plt.subplots(1, figsize=(10,10))\n",
    "plt.title('Receiver Operating Characteristic - Random Forest')\n",
    "plt.plot(false_positive_rate1, true_positive_rate1)\n",
    "plt.plot([0, 1], ls=\"--\")\n",
    "plt.plot([0, 0], [1, 0] , c=\".7\"), plt.plot([1, 1] , c=\".7\")\n",
    "plt.ylabel('True Positive Rate')\n",
    "plt.xlabel('False Positive Rate')\n",
    "plt.show()"
   ]
  },
  {
   "cell_type": "code",
   "execution_count": 333,
   "metadata": {},
   "outputs": [
    {
     "data": {
      "text/plain": [
       "0.5162692438443981"
      ]
     },
     "execution_count": 333,
     "metadata": {},
     "output_type": "execute_result"
    }
   ],
   "source": [
    "roc_auc_score(y_test, log_pred)"
   ]
  },
  {
   "cell_type": "code",
   "execution_count": 334,
   "metadata": {},
   "outputs": [
    {
     "name": "stderr",
     "output_type": "stream",
     "text": [
      "C:\\Users\\Pali\\.conda\\envs\\egis_base_2\\lib\\site-packages\\sklearn\\linear_model\\logistic.py:947: ConvergenceWarning: lbfgs failed to converge. Increase the number of iterations.\n",
      "  \"of iterations.\", ConvergenceWarning)\n"
     ]
    },
    {
     "data": {
      "text/plain": [
       "0.5617519277357041"
      ]
     },
     "execution_count": 334,
     "metadata": {},
     "output_type": "execute_result"
    }
   ],
   "source": [
    "crossval_scores = cross_val_score(logreg, X, y, scoring='roc_auc', cv=5)\n",
    "crossval_scores.mean()"
   ]
  },
  {
   "cell_type": "markdown",
   "metadata": {},
   "source": [
    "Predicting the probabilities with the logistic regressor model"
   ]
  },
  {
   "cell_type": "code",
   "execution_count": 227,
   "metadata": {},
   "outputs": [
    {
     "data": {
      "text/plain": [
       "array([[0.52631375, 0.47368625],\n",
       "       [0.60006914, 0.39993086],\n",
       "       [0.52518697, 0.47481303],\n",
       "       ...,\n",
       "       [0.58757   , 0.41243   ],\n",
       "       [0.58490782, 0.41509218],\n",
       "       [0.51908212, 0.48091788]])"
      ]
     },
     "execution_count": 227,
     "metadata": {},
     "output_type": "execute_result"
    }
   ],
   "source": [
    "log_pred_proba = logreg.predict_proba(X_test)\n",
    "log_pred_proba"
   ]
  },
  {
   "cell_type": "markdown",
   "metadata": {},
   "source": [
    "**Ridge Classifier**"
   ]
  },
  {
   "cell_type": "code",
   "execution_count": 248,
   "metadata": {},
   "outputs": [
    {
     "name": "stderr",
     "output_type": "stream",
     "text": [
      "C:\\Users\\Pali\\.conda\\envs\\egis_base_2\\lib\\site-packages\\sklearn\\linear_model\\ridge.py:147: LinAlgWarning: Ill-conditioned matrix (rcond=2.37785e-18): result may not be accurate.\n",
      "  overwrite_a=True).T\n"
     ]
    },
    {
     "data": {
      "text/plain": [
       "array([[1420,  232],\n",
       "       [1022,  374]], dtype=int64)"
      ]
     },
     "execution_count": 248,
     "metadata": {},
     "output_type": "execute_result"
    }
   ],
   "source": [
    "ridge = RidgeClassifier()\n",
    "ridge.fit(X_train, y_train)\n",
    "\n",
    "ridge_pred = ridge.predict(X_test)\n",
    "\n",
    "\n",
    "confusion_matrix(y_test, ridge_pred)"
   ]
  },
  {
   "cell_type": "code",
   "execution_count": 250,
   "metadata": {},
   "outputs": [
    {
     "name": "stdout",
     "output_type": "stream",
     "text": [
      "              precision    recall  f1-score   support\n",
      "\n",
      "           0       0.58      0.86      0.69      1652\n",
      "           1       0.62      0.27      0.37      1396\n",
      "\n",
      "    accuracy                           0.59      3048\n",
      "   macro avg       0.60      0.56      0.53      3048\n",
      "weighted avg       0.60      0.59      0.55      3048\n",
      "\n"
     ]
    }
   ],
   "source": [
    "print(classification_report(y_test, ridge_pred))"
   ]
  },
  {
   "cell_type": "code",
   "execution_count": 251,
   "metadata": {},
   "outputs": [
    {
     "data": {
      "image/png": "[encoded data removed]",
      "text/plain": [
       "<Figure size 720x720 with 1 Axes>"
      ]
     },
     "metadata": {
      "needs_background": "light"
     },
     "output_type": "display_data"
    }
   ],
   "source": [
    "false_positive_rate1, true_positive_rate1, threshold1 = roc_curve(y_test, ridge_pred)\n",
    "\n",
    "\n",
    "# Plot ROC curves\n",
    "plt.subplots(1, figsize=(10,10))\n",
    "plt.title('Receiver Operating Characteristic - Random Forest')\n",
    "plt.plot(false_positive_rate1, true_positive_rate1)\n",
    "plt.plot([0, 1], ls=\"--\")\n",
    "plt.plot([0, 0], [1, 0] , c=\".7\"), plt.plot([1, 1] , c=\".7\")\n",
    "plt.ylabel('True Positive Rate')\n",
    "plt.xlabel('False Positive Rate')\n",
    "plt.show()"
   ]
  },
  {
   "cell_type": "code",
   "execution_count": 253,
   "metadata": {},
   "outputs": [
    {
     "data": {
      "text/plain": [
       "0.5637362370522488"
      ]
     },
     "execution_count": 253,
     "metadata": {},
     "output_type": "execute_result"
    }
   ],
   "source": [
    "roc_auc_score(y_test, ridge_pred)"
   ]
  },
  {
   "cell_type": "code",
   "execution_count": 254,
   "metadata": {},
   "outputs": [
    {
     "name": "stderr",
     "output_type": "stream",
     "text": [
      "C:\\Users\\Pali\\.conda\\envs\\egis_base_2\\lib\\site-packages\\sklearn\\linear_model\\ridge.py:147: LinAlgWarning: Ill-conditioned matrix (rcond=2.44881e-18): result may not be accurate.\n",
      "  overwrite_a=True).T\n",
      "C:\\Users\\Pali\\.conda\\envs\\egis_base_2\\lib\\site-packages\\sklearn\\linear_model\\ridge.py:147: LinAlgWarning: Ill-conditioned matrix (rcond=2.52572e-18): result may not be accurate.\n",
      "  overwrite_a=True).T\n",
      "C:\\Users\\Pali\\.conda\\envs\\egis_base_2\\lib\\site-packages\\sklearn\\linear_model\\ridge.py:147: LinAlgWarning: Ill-conditioned matrix (rcond=2.71306e-18): result may not be accurate.\n",
      "  overwrite_a=True).T\n"
     ]
    },
    {
     "data": {
      "text/plain": [
       "0.6089148006453344"
      ]
     },
     "execution_count": 254,
     "metadata": {},
     "output_type": "execute_result"
    }
   ],
   "source": [
    "crossval_scores = cross_val_score(ridge, X, y, scoring='roc_auc', cv=5)\n",
    "crossval_scores.mean()"
   ]
  },
  {
   "cell_type": "markdown",
   "metadata": {},
   "source": [
    "**Random Forest classifier - vanilla**"
   ]
  },
  {
   "cell_type": "markdown",
   "metadata": {},
   "source": [
    "Training the random forest classifier"
   ]
  },
  {
   "cell_type": "code",
   "execution_count": 229,
   "metadata": {},
   "outputs": [
    {
     "name": "stderr",
     "output_type": "stream",
     "text": [
      "C:\\Users\\Pali\\.conda\\envs\\egis_base_2\\lib\\site-packages\\sklearn\\ensemble\\forest.py:245: FutureWarning: The default value of n_estimators will change from 10 in version 0.20 to 100 in 0.22.\n",
      "  \"10 in version 0.20 to 100 in 0.22.\", FutureWarning)\n"
     ]
    }
   ],
   "source": [
    "rnd_class=RandomForestClassifier()\n",
    "\n",
    "rnd_class.fit(X_train,y_train)\n",
    "\n",
    "rnd_pred = rnd_class.predict(X_test)"
   ]
  },
  {
   "cell_type": "markdown",
   "metadata": {},
   "source": [
    "Taking a look at the confusion matrix and classification report of the Random Forest model"
   ]
  },
  {
   "cell_type": "code",
   "execution_count": 230,
   "metadata": {},
   "outputs": [
    {
     "data": {
      "text/plain": [
       "array([[1550,  102],\n",
       "       [ 167, 1229]], dtype=int64)"
      ]
     },
     "execution_count": 230,
     "metadata": {},
     "output_type": "execute_result"
    }
   ],
   "source": [
    "confusion_matrix(y_test, rnd_pred)"
   ]
  },
  {
   "cell_type": "code",
   "execution_count": 231,
   "metadata": {},
   "outputs": [
    {
     "name": "stdout",
     "output_type": "stream",
     "text": [
      "              precision    recall  f1-score   support\n",
      "\n",
      "           0       0.90      0.94      0.92      1652\n",
      "           1       0.92      0.88      0.90      1396\n",
      "\n",
      "    accuracy                           0.91      3048\n",
      "   macro avg       0.91      0.91      0.91      3048\n",
      "weighted avg       0.91      0.91      0.91      3048\n",
      "\n"
     ]
    }
   ],
   "source": [
    "print(classification_report(y_test, rnd_pred))"
   ]
  },
  {
   "cell_type": "markdown",
   "metadata": {},
   "source": [
    "Showing the ROC curve for the random forest classifier on the test dataset"
   ]
  },
  {
   "cell_type": "code",
   "execution_count": 232,
   "metadata": {},
   "outputs": [
    {
     "data": {
      "image/png": "[encoded data removed]",
      "text/plain": [
       "<Figure size 720x720 with 1 Axes>"
      ]
     },
     "metadata": {
      "needs_background": "light"
     },
     "output_type": "display_data"
    }
   ],
   "source": [
    "false_positive_rate1, true_positive_rate1, threshold1 = roc_curve(y_test, rnd_pred, drop_intermediate=False)\n",
    "\n",
    "\n",
    "# Plot ROC curves\n",
    "plt.subplots(1, figsize=(10,10))\n",
    "plt.title('Receiver Operating Characteristic - Random Forest on the test dataset')\n",
    "plt.plot(false_positive_rate1, true_positive_rate1)\n",
    "plt.plot([0, 1], ls=\"--\")\n",
    "plt.plot([0, 0], [1, 0] , c=\".7\"), plt.plot([1, 1] , c=\".7\")\n",
    "plt.ylabel('True Positive Rate')\n",
    "plt.xlabel('False Positive Rate')\n",
    "plt.show()\n",
    "\n"
   ]
  },
  {
   "cell_type": "markdown",
   "metadata": {},
   "source": [
    "Printing out the value of the area under the curve"
   ]
  },
  {
   "cell_type": "code",
   "execution_count": 212,
   "metadata": {
    "scrolled": true
   },
   "outputs": [
    {
     "data": {
      "text/plain": [
       "0.9106917377217508"
      ]
     },
     "execution_count": 212,
     "metadata": {},
     "output_type": "execute_result"
    }
   ],
   "source": [
    "roc_auc_score(y_test, rnd_pred)"
   ]
  },
  {
   "cell_type": "markdown",
   "metadata": {},
   "source": [
    "Cross validated (5 fold) area under the curve value"
   ]
  },
  {
   "cell_type": "code",
   "execution_count": 234,
   "metadata": {},
   "outputs": [
    {
     "data": {
      "text/plain": [
       "0.9728272555454953"
      ]
     },
     "execution_count": 234,
     "metadata": {},
     "output_type": "execute_result"
    }
   ],
   "source": [
    "crossval_scores = cross_val_score(rnd_class, X, y, scoring='roc_auc', cv=5)\n",
    "crossval_scores.mean()"
   ]
  },
  {
   "cell_type": "markdown",
   "metadata": {},
   "source": [
    "Printing out the probabilities of the random forest classifier on the test dataset"
   ]
  },
  {
   "cell_type": "code",
   "execution_count": 216,
   "metadata": {},
   "outputs": [
    {
     "data": {
      "text/plain": [
       "array([[0.1, 0.9],\n",
       "       [1. , 0. ],\n",
       "       [0.4, 0.6],\n",
       "       ...,\n",
       "       [0.2, 0.8],\n",
       "       [0.1, 0.9],\n",
       "       [1. , 0. ]])"
      ]
     },
     "execution_count": 216,
     "metadata": {},
     "output_type": "execute_result"
    }
   ],
   "source": [
    "rnd_class.predict_proba(X_test)"
   ]
  },
  {
   "cell_type": "markdown",
   "metadata": {},
   "source": [
    "**Gradient Boost classifier - vanilla**"
   ]
  },
  {
   "cell_type": "code",
   "execution_count": 261,
   "metadata": {},
   "outputs": [],
   "source": [
    "from sklearn.ensemble import GradientBoostingClassifier"
   ]
  },
  {
   "cell_type": "code",
   "execution_count": 264,
   "metadata": {},
   "outputs": [],
   "source": [
    "gbcm=GradientBoostingClassifier()\n",
    "\n",
    "gbcm.fit(X_train,y_train)\n",
    "\n",
    "gbcm_pred = gbcm.predict(X_test)"
   ]
  },
  {
   "cell_type": "code",
   "execution_count": 265,
   "metadata": {},
   "outputs": [
    {
     "data": {
      "text/plain": [
       "array([[1607,   45],\n",
       "       [  51, 1345]], dtype=int64)"
      ]
     },
     "execution_count": 265,
     "metadata": {},
     "output_type": "execute_result"
    }
   ],
   "source": [
    "confusion_matrix(y_test, gbcm_pred)\n"
   ]
  },
  {
   "cell_type": "code",
   "execution_count": 266,
   "metadata": {},
   "outputs": [
    {
     "name": "stdout",
     "output_type": "stream",
     "text": [
      "              precision    recall  f1-score   support\n",
      "\n",
      "           0       0.97      0.97      0.97      1652\n",
      "           1       0.97      0.96      0.97      1396\n",
      "\n",
      "    accuracy                           0.97      3048\n",
      "   macro avg       0.97      0.97      0.97      3048\n",
      "weighted avg       0.97      0.97      0.97      3048\n",
      "\n"
     ]
    }
   ],
   "source": [
    "print(classification_report(y_test, gbcm_pred))"
   ]
  },
  {
   "cell_type": "code",
   "execution_count": 268,
   "metadata": {},
   "outputs": [
    {
     "data": {
      "image/png": "[encoded data removed]",
      "text/plain": [
       "<Figure size 720x720 with 1 Axes>"
      ]
     },
     "metadata": {
      "needs_background": "light"
     },
     "output_type": "display_data"
    }
   ],
   "source": [
    "false_positive_rate1, true_positive_rate1, threshold1 = roc_curve(y_test, gbcm_pred, drop_intermediate=False)\n",
    "\n",
    "\n",
    "# Plot ROC curves\n",
    "plt.subplots(1, figsize=(10,10))\n",
    "plt.title('Receiver Operating Characteristic - Gradient Boost classifier on the test dataset')\n",
    "plt.plot(false_positive_rate1, true_positive_rate1)\n",
    "plt.plot([0, 1], ls=\"--\")\n",
    "plt.plot([0, 0], [1, 0] , c=\".7\"), plt.plot([1, 1] , c=\".7\")\n",
    "plt.ylabel('True Positive Rate')\n",
    "plt.xlabel('False Positive Rate')\n",
    "plt.show()"
   ]
  },
  {
   "cell_type": "code",
   "execution_count": 270,
   "metadata": {},
   "outputs": [
    {
     "data": {
      "text/plain": [
       "0.9681136696337513"
      ]
     },
     "execution_count": 270,
     "metadata": {},
     "output_type": "execute_result"
    }
   ],
   "source": [
    "roc_auc_score(y_test, gbcm_pred)"
   ]
  },
  {
   "cell_type": "code",
   "execution_count": 272,
   "metadata": {},
   "outputs": [
    {
     "data": {
      "text/plain": [
       "0.996821299215067"
      ]
     },
     "execution_count": 272,
     "metadata": {},
     "output_type": "execute_result"
    }
   ],
   "source": [
    "crossval_scores = cross_val_score(gbcm, X, y, scoring='roc_auc', cv=5)\n",
    "crossval_scores.mean()"
   ]
  },
  {
   "cell_type": "code",
   "execution_count": 273,
   "metadata": {},
   "outputs": [
    {
     "data": {
      "text/plain": [
       "array([[1.02734768e-03, 9.98972652e-01],\n",
       "       [9.95962169e-01, 4.03783095e-03],\n",
       "       [5.19204214e-04, 9.99480796e-01],\n",
       "       ...,\n",
       "       [2.60393354e-02, 9.73960665e-01],\n",
       "       [2.54660601e-02, 9.74533940e-01],\n",
       "       [9.95591778e-01, 4.40822173e-03]])"
      ]
     },
     "execution_count": 273,
     "metadata": {},
     "output_type": "execute_result"
    }
   ],
   "source": [
    "gbcm.predict_proba(X_test)"
   ]
  },
  {
   "cell_type": "markdown",
   "metadata": {},
   "source": [
    "**Gradient Boost classifier - optimized**"
   ]
  },
  {
   "cell_type": "code",
   "execution_count": 275,
   "metadata": {},
   "outputs": [],
   "source": [
    "gbcm=GradientBoostingClassifier(n_estimators=600, learning_rate=0.01, max_depth=5)\n",
    "\n",
    "gbcm.fit(X_train,y_train)\n",
    "\n",
    "gbcm_pred = gbcm.predict(X_test)"
   ]
  },
  {
   "cell_type": "code",
   "execution_count": 276,
   "metadata": {},
   "outputs": [
    {
     "data": {
      "text/plain": [
       "array([[1624,   28],\n",
       "       [  40, 1356]], dtype=int64)"
      ]
     },
     "execution_count": 276,
     "metadata": {},
     "output_type": "execute_result"
    }
   ],
   "source": [
    "confusion_matrix(y_test, gbcm_pred)"
   ]
  },
  {
   "cell_type": "code",
   "execution_count": 279,
   "metadata": {},
   "outputs": [
    {
     "name": "stdout",
     "output_type": "stream",
     "text": [
      "              precision    recall  f1-score   support\n",
      "\n",
      "           0       0.98      0.98      0.98      1652\n",
      "           1       0.98      0.97      0.98      1396\n",
      "\n",
      "    accuracy                           0.98      3048\n",
      "   macro avg       0.98      0.98      0.98      3048\n",
      "weighted avg       0.98      0.98      0.98      3048\n",
      "\n"
     ]
    }
   ],
   "source": [
    "print(classification_report(y_test, gbcm_pred))"
   ]
  },
  {
   "cell_type": "code",
   "execution_count": 280,
   "metadata": {},
   "outputs": [
    {
     "data": {
      "image/png": "[encoded data removed]",
      "text/plain": [
       "<Figure size 720x720 with 1 Axes>"
      ]
     },
     "metadata": {
      "needs_background": "light"
     },
     "output_type": "display_data"
    }
   ],
   "source": [
    "false_positive_rate1, true_positive_rate1, threshold1 = roc_curve(y_test, gbcm_pred, drop_intermediate=False)\n",
    "\n",
    "\n",
    "# Plot ROC curves\n",
    "plt.subplots(1, figsize=(10,10))\n",
    "plt.title('Receiver Operating Characteristic - Gradient Boost classifier on the test dataset')\n",
    "plt.plot(false_positive_rate1, true_positive_rate1)\n",
    "plt.plot([0, 1], ls=\"--\")\n",
    "plt.plot([0, 0], [1, 0] , c=\".7\"), plt.plot([1, 1] , c=\".7\")\n",
    "plt.ylabel('True Positive Rate')\n",
    "plt.xlabel('False Positive Rate')\n",
    "plt.show()"
   ]
  },
  {
   "cell_type": "code",
   "execution_count": 281,
   "metadata": {},
   "outputs": [
    {
     "data": {
      "text/plain": [
       "0.9771987761643437"
      ]
     },
     "execution_count": 281,
     "metadata": {},
     "output_type": "execute_result"
    }
   ],
   "source": [
    "roc_auc_score(y_test, gbcm_pred)"
   ]
  },
  {
   "cell_type": "code",
   "execution_count": 282,
   "metadata": {},
   "outputs": [
    {
     "data": {
      "text/plain": [
       "0.9983180705814684"
      ]
     },
     "execution_count": 282,
     "metadata": {},
     "output_type": "execute_result"
    }
   ],
   "source": [
    "crossval_scores = cross_val_score(gbcm, X, y, scoring='roc_auc', cv=5)\n",
    "crossval_scores.mean()"
   ]
  },
  {
   "cell_type": "markdown",
   "metadata": {},
   "source": [
    "**GBM on the holdout dataset**"
   ]
  },
  {
   "cell_type": "code",
   "execution_count": 285,
   "metadata": {},
   "outputs": [],
   "source": [
    "X_ho = holdout.drop(columns=[\"is_growth_over_8_perc\",\"sales_change_2_3\"])\n",
    "y_ho=holdout[\"is_growth_over_8_perc\"]"
   ]
  },
  {
   "cell_type": "code",
   "execution_count": 286,
   "metadata": {},
   "outputs": [
    {
     "name": "stdout",
     "output_type": "stream",
     "text": [
      "              precision    recall  f1-score   support\n",
      "\n",
      "           0       0.98      0.99      0.99      2066\n",
      "           1       0.99      0.98      0.98      1744\n",
      "\n",
      "    accuracy                           0.99      3810\n",
      "   macro avg       0.99      0.99      0.99      3810\n",
      "weighted avg       0.99      0.99      0.99      3810\n",
      "\n"
     ]
    }
   ],
   "source": [
    "gbcm_pred = gbcm.predict(X_ho)\n",
    "\n",
    "\n",
    "confusion_matrix(y_ho, gbcm_pred)\n",
    "\n",
    "\n",
    "print(classification_report(y_ho, gbcm_pred))"
   ]
  },
  {
   "cell_type": "code",
   "execution_count": 287,
   "metadata": {},
   "outputs": [
    {
     "data": {
      "image/png": "[encoded data removed]",
      "text/plain": [
       "<Figure size 720x720 with 1 Axes>"
      ]
     },
     "metadata": {
      "needs_background": "light"
     },
     "output_type": "display_data"
    }
   ],
   "source": [
    "false_positive_rate1, true_positive_rate1, threshold1 = roc_curve(y_ho, gbcm_pred, drop_intermediate=False)\n",
    "\n",
    "\n",
    "# Plot ROC curves\n",
    "plt.subplots(1, figsize=(10,10))\n",
    "plt.title('Receiver Operating Characteristic - Gradient Boost classifier on the test dataset')\n",
    "plt.plot(false_positive_rate1, true_positive_rate1)\n",
    "plt.plot([0, 1], ls=\"--\")\n",
    "plt.plot([0, 0], [1, 0] , c=\".7\"), plt.plot([1, 1] , c=\".7\")\n",
    "plt.ylabel('True Positive Rate')\n",
    "plt.xlabel('False Positive Rate')\n",
    "plt.show()"
   ]
  },
  {
   "cell_type": "code",
   "execution_count": 288,
   "metadata": {},
   "outputs": [
    {
     "data": {
      "text/plain": [
       "0.9856093523806142"
      ]
     },
     "execution_count": 288,
     "metadata": {},
     "output_type": "execute_result"
    }
   ],
   "source": [
    "roc_auc_score(y_ho, gbcm_pred)"
   ]
  },
  {
   "cell_type": "code",
   "execution_count": 289,
   "metadata": {},
   "outputs": [
    {
     "data": {
      "text/plain": [
       "0.9963533784862728"
      ]
     },
     "execution_count": 289,
     "metadata": {},
     "output_type": "execute_result"
    }
   ],
   "source": [
    "crossval_scores = cross_val_score(gbcm, X_ho, y_ho, scoring='roc_auc', cv=5)\n",
    "crossval_scores.mean()"
   ]
  },
  {
   "cell_type": "code",
   "execution_count": 290,
   "metadata": {},
   "outputs": [
    {
     "data": {
      "text/plain": [
       "array([[0.00346789, 0.99653211],\n",
       "       [0.00260207, 0.99739793],\n",
       "       [0.00459475, 0.99540525],\n",
       "       ...,\n",
       "       [0.99153412, 0.00846588],\n",
       "       [0.00348782, 0.99651218],\n",
       "       [0.98247785, 0.01752215]])"
      ]
     },
     "execution_count": 290,
     "metadata": {},
     "output_type": "execute_result"
    }
   ],
   "source": [
    "gbcm.predict_proba(X_ho)"
   ]
  },
  {
   "cell_type": "markdown",
   "metadata": {},
   "source": [
    "**Models comparison**"
   ]
  },
  {
   "cell_type": "code",
   "execution_count": 339,
   "metadata": {},
   "outputs": [
    {
     "data": {
      "text/html": [
       "<div>\n",
       "<style scoped>\n",
       "    .dataframe tbody tr th:only-of-type {\n",
       "        vertical-align: middle;\n",
       "    }\n",
       "\n",
       "    .dataframe tbody tr th {\n",
       "        vertical-align: top;\n",
       "    }\n",
       "\n",
       "    .dataframe thead th {\n",
       "        text-align: right;\n",
       "    }\n",
       "</style>\n",
       "<table border=\"1\" class=\"dataframe\">\n",
       "  <thead>\n",
       "    <tr style=\"text-align: right;\">\n",
       "      <th></th>\n",
       "      <th>model_code</th>\n",
       "      <th>model</th>\n",
       "      <th>auc_on_train_test_5_CV</th>\n",
       "    </tr>\n",
       "  </thead>\n",
       "  <tbody>\n",
       "    <tr>\n",
       "      <th>0</th>\n",
       "      <td>M1</td>\n",
       "      <td>logistic regression</td>\n",
       "      <td>0.561</td>\n",
       "    </tr>\n",
       "    <tr>\n",
       "      <th>1</th>\n",
       "      <td>M2</td>\n",
       "      <td>ridge classifier</td>\n",
       "      <td>0.610</td>\n",
       "    </tr>\n",
       "    <tr>\n",
       "      <th>2</th>\n",
       "      <td>M3</td>\n",
       "      <td>random forest</td>\n",
       "      <td>0.973</td>\n",
       "    </tr>\n",
       "    <tr>\n",
       "      <th>3</th>\n",
       "      <td>M4</td>\n",
       "      <td>GBM</td>\n",
       "      <td>0.997</td>\n",
       "    </tr>\n",
       "    <tr>\n",
       "      <th>4</th>\n",
       "      <td>M5</td>\n",
       "      <td>optimized GBM</td>\n",
       "      <td>0.998</td>\n",
       "    </tr>\n",
       "  </tbody>\n",
       "</table>\n",
       "</div>"
      ],
      "text/plain": [
       "  model_code                model  auc_on_train_test_5_CV\n",
       "0         M1  logistic regression                   0.561\n",
       "1         M2     ridge classifier                   0.610\n",
       "2         M3        random forest                   0.973\n",
       "3         M4                  GBM                   0.997\n",
       "4         M5        optimized GBM                   0.998"
      ]
     },
     "execution_count": 339,
     "metadata": {},
     "output_type": "execute_result"
    }
   ],
   "source": [
    "d = {'model_code': [\"M1\", \"M2\", \"M3\", \"M4\", \"M5\"], 'model': [\"logistic regression\", \"ridge classifier\", \"random forest\", \"GBM\", \"optimized GBM\"], \\\n",
    "'auc_on_train_test_5_CV': [0.561,0.610, 0.973, 0.997, 0.998]}\n",
    "model_comp = pd.DataFrame(data=d)\n",
    "model_comp"
   ]
  },
  {
   "cell_type": "markdown",
   "metadata": {},
   "source": [
    "**Optimal classification of the threshold based on the given loss function**"
   ]
  },
  {
   "cell_type": "markdown",
   "metadata": {},
   "source": [
    "Based on the loss function given in the assignment (E(loss) = Pr(FP) * 10 + Pr(FN) * 2) I calculate at which threshold is this loss function the smallest. For this calculation I use my best model (optimized GBM) and the holdout dataset. \n",
    "\n",
    "\n",
    "\n",
    "\n"
   ]
  },
  {
   "cell_type": "markdown",
   "metadata": {},
   "source": [
    "First I run the threshold optimizer on all the thresholds from 0 to 1."
   ]
  },
  {
   "cell_type": "markdown",
   "metadata": {},
   "source": [
    "Then I focused on the thresholds where the loss function was close to its minima. "
   ]
  },
  {
   "cell_type": "code",
   "execution_count": 331,
   "metadata": {},
   "outputs": [
    {
     "name": "stdout",
     "output_type": "stream",
     "text": [
      "------------\n",
      "Threshold: 0.500; AUC: 0.986; Expected loss is: 0.0656168\n",
      "------------\n",
      "Threshold: 0.505; AUC: 0.986; Expected loss is: 0.0656168\n",
      "------------\n",
      "Threshold: 0.510; AUC: 0.986; Expected loss is: 0.0656168\n",
      "------------\n",
      "Threshold: 0.515; AUC: 0.987; Expected loss is: 0.0551181\n",
      "------------\n",
      "Threshold: 0.520; AUC: 0.987; Expected loss is: 0.0551181\n",
      "------------\n",
      "Threshold: 0.525; AUC: 0.987; Expected loss is: 0.0551181\n",
      "------------\n",
      "Threshold: 0.530; AUC: 0.987; Expected loss is: 0.0524934\n",
      "------------\n",
      "Threshold: 0.535; AUC: 0.987; Expected loss is: 0.0503937\n",
      "------------\n",
      "Threshold: 0.540; AUC: 0.987; Expected loss is: 0.0477690\n",
      "------------\n",
      "Threshold: 0.545; AUC: 0.987; Expected loss is: 0.0451444\n",
      "------------\n",
      "Threshold: 0.550; AUC: 0.987; Expected loss is: 0.0451444\n",
      "------------\n",
      "Threshold: 0.555; AUC: 0.987; Expected loss is: 0.0456693\n",
      "------------\n",
      "Threshold: 0.560; AUC: 0.987; Expected loss is: 0.0456693\n",
      "------------\n",
      "Threshold: 0.565; AUC: 0.986; Expected loss is: 0.0467192\n",
      "------------\n",
      "Threshold: 0.570; AUC: 0.986; Expected loss is: 0.0467192\n",
      "------------\n",
      "Threshold: 0.575; AUC: 0.986; Expected loss is: 0.0472441\n",
      "------------\n",
      "Threshold: 0.580; AUC: 0.986; Expected loss is: 0.0477690\n",
      "------------\n",
      "Threshold: 0.585; AUC: 0.986; Expected loss is: 0.0456693\n",
      "------------\n",
      "Threshold: 0.590; AUC: 0.986; Expected loss is: 0.0456693\n",
      "------------\n",
      "Threshold: 0.595; AUC: 0.985; Expected loss is: 0.0461942\n"
     ]
    }
   ],
   "source": [
    "gbm_pred_prob = gbcm.predict_proba(X_ho)[:,1]\n",
    "threshold_list = np.arange(0.5,0.6,0.005)\n",
    "gbm_new_pred = binarize([gbm_pred_prob], 0.01)[0]\n",
    "\n",
    "for threshold in threshold_list:\n",
    "    FN_loss = 2\n",
    "    FP_loss = 10\n",
    "\n",
    "    gbm_new_pred = binarize([gbm_pred_prob], threshold)[0]\n",
    "\n",
    "    confusion_new = confusion_matrix(y_ho, gbm_new_pred)\n",
    "\n",
    "    N = confusion_new.sum()\n",
    "    FN = confusion_new[1, 0]\n",
    "    FP = confusion_new[0, 1] \n",
    "\n",
    "    Pr_FN = FN/N\n",
    "    Pr_FP = FP/N\n",
    "\n",
    "    loss = Pr_FN*FN_loss + Pr_FP*FP_loss\n",
    "\n",
    "    auc = roc_auc_score(y_ho, gbm_new_pred)\n",
    "    \n",
    "    print(\"------------\")\n",
    "    print(\"Threshold: {:.3f}; AUC: {:.3f}; Expected loss is: {:.7f}\".format(threshold, auc, loss))"
   ]
  },
  {
   "cell_type": "markdown",
   "metadata": {},
   "source": [
    "As you can see from the above print statements the optimum threshold is at 54.5% and 55% where the loss function is at its lowest point."
   ]
  },
  {
   "cell_type": "markdown",
   "metadata": {},
   "source": [
    "***"
   ]
  },
  {
   "cell_type": "markdown",
   "metadata": {},
   "source": [
    "**Summary & conclusion**"
   ]
  },
  {
   "cell_type": "markdown",
   "metadata": {},
   "source": [
    "My task was to predict which companies are growing fast and which not. Therefore a I had to build a classification model for this task.\n",
    "\n",
    "The dataset contained several companies with financial, industrial and management quality data ranging between 2005 and 2016. \n",
    "Therefore I choose those subsequent 3 years where there is the most data. \n",
    "\n",
    "I set the fast growth for companies which have an overall growth in sales in two years above 8%. This value might seem low but we should not forget that in the years 2013-2015 the economy is just hardly recovering from the 2012 global economic crisis and we are in the midst of the european sovereign crisis. And besides it is my favourite number. :) \n",
    "\n",
    "\n",
    "\n",
    "Dataset:\n",
    "    - 2013 kept all the data (+feature engineered data)\n",
    "    - 2014 kept all the data (+feature engineered data)\n",
    "    - 2015 deleted only the year end sales figures, kept every other data  (+feature engineered data)\n",
    "\n",
    "    \n",
    "Feature engineering:\n",
    "    - created new  financial indicator features liability/assets, liability/shareholders equity\n",
    "    - hot encoded the gender, origin industry, nace, \n",
    "    - created new features: changes over one year, change over 2 year for every financial feature\n",
    "    - created new features: average of the most important financial features\n",
    "    - created the target variable (continuous): sales change in two years\n",
    "    - created the target variable (boolean): is sales change in two years >= 8%\n",
    "        \n",
    " I tried different models: logistic regression, ridge classifier, random forest classifier, gbm classifier and from all these the best model I got was the GBM model with optimized features. The results for these models can be seen in the model comparison table I shown earlier. \n",
    " \n",
    " The 5 fold cross validated result for the latter model on the holdout set was 99.6% area under the curve. This seems to be a very decent score.\n",
    " \n",
    " \n",
    " I concluded my work with optimising the threshold for my best model with the help of the custom loss function given in the assignment (FP=10, FN=2). I found that the optimal threshold with the given loss function is at 54.5% and 55%.\n",
    " \n",
    " \n",
    " \n",
    " "
   ]
  }
 ],
 "metadata": {
  "kernelspec": {
   "display_name": "Python 3",
   "language": "python",
   "name": "python3"
  },
  "language_info": {
   "codemirror_mode": {
    "name": "ipython",
    "version": 3
   },
   "file_extension": ".py",
   "mimetype": "text/x-python",
   "name": "python",
   "nbconvert_exporter": "python",
   "pygments_lexer": "ipython3",
   "version": "3.6.12"
  },
  "toc": {
   "base_numbering": 1,
   "nav_menu": {},
   "number_sections": true,
   "sideBar": true,
   "skip_h1_title": false,
   "title_cell": "Table of Contents",
   "title_sidebar": "Contents",
   "toc_cell": false,
   "toc_position": {},
   "toc_section_display": true,
   "toc_window_display": false
  },
  "varInspector": {
   "cols": {
    "lenName": 16,
    "lenType": 16,
    "lenVar": 40
   },
   "kernels_config": {
    "python": {
     "delete_cmd_postfix": "",
     "delete_cmd_prefix": "del ",
     "library": "var_list.py",
     "varRefreshCmd": "print(var_dic_list())"
    },
    "r": {
     "delete_cmd_postfix": ") ",
     "delete_cmd_prefix": "rm(",
     "library": "var_list.r",
     "varRefreshCmd": "cat(var_dic_list()) "
    }
   },
   "types_to_exclude": [
    "module",
    "function",
    "builtin_function_or_method",
    "instance",
    "_Feature"
   ],
   "window_display": false
  }
 },
 "nbformat": 4,
 "nbformat_minor": 2
}
